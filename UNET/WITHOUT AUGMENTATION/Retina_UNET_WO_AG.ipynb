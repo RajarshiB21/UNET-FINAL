{
  "nbformat": 4,
  "nbformat_minor": 0,
  "metadata": {
    "colab": {
      "provenance": [],
      "machine_shape": "hm"
    },
    "kernelspec": {
      "name": "python3",
      "display_name": "Python 3"
    },
    "language_info": {
      "name": "python"
    },
    "accelerator": "GPU",
    "gpuClass": "standard"
  },
  "cells": [
    {
      "cell_type": "markdown",
      "source": [
        "**DATA IMPORT AND AUGMENTATION**"
      ],
      "metadata": {
        "id": "JUCsxc0svSXP"
      }
    },
    {
      "cell_type": "code",
      "source": [
        "from google.colab import drive\n",
        "drive.mount('/content/drive')"
      ],
      "metadata": {
        "colab": {
          "base_uri": "https://localhost:8080/"
        },
        "id": "-rFozLU-0e9d",
        "outputId": "69b629b1-4006-4fd4-9700-bcd83ffde1d3"
      },
      "execution_count": 1,
      "outputs": [
        {
          "output_type": "stream",
          "name": "stdout",
          "text": [
            "Mounted at /content/drive\n"
          ]
        }
      ]
    },
    {
      "cell_type": "code",
      "source": [
        "import torch\n",
        "print(torch.cuda.get_device_name(0))"
      ],
      "metadata": {
        "colab": {
          "base_uri": "https://localhost:8080/"
        },
        "id": "pcBjt_ub1kD2",
        "outputId": "2ea1e564-7f8e-4500-bef0-f264da8a0736"
      },
      "execution_count": 2,
      "outputs": [
        {
          "output_type": "stream",
          "name": "stdout",
          "text": [
            "Tesla T4\n"
          ]
        }
      ]
    },
    {
      "cell_type": "code",
      "execution_count": 3,
      "metadata": {
        "id": "cgXKZZhXhCZI"
      },
      "outputs": [],
      "source": [
        "import os\n",
        "import numpy as np\n",
        "import cv2\n",
        "from glob import glob\n",
        "from tqdm import tqdm\n",
        "import imageio\n",
        "from albumentations import HorizontalFlip, VerticalFlip, Rotate"
      ]
    },
    {
      "cell_type": "code",
      "source": [
        "#Create new path to store augmented images\n",
        "def create_dir(path):\n",
        "  if not os.path.exists(path):\n",
        "    os.makedirs(path)"
      ],
      "metadata": {
        "id": "fAI6DT9yjUI7"
      },
      "execution_count": 4,
      "outputs": []
    },
    {
      "cell_type": "code",
      "source": [
        "def load_data(path):\n",
        "  train_x = sorted(glob(os.path.join(path, \"training\", \"images\", \"*.tif\")))\n",
        "  train_y = sorted(glob(os.path.join(path, \"training\", \"1st_manual\", \"*.gif\")))\n",
        "\n",
        "  test_x = sorted(glob(os.path.join(path, \"test\", \"images\", \"*.tif\")))\n",
        "  test_y = sorted(glob(os.path.join(path, \"test\", \"1st_manual\", \"*.gif\")))\n",
        "\n",
        "  return (train_x, train_y), (test_x,test_y)"
      ],
      "metadata": {
        "id": "G_hFgqm_huvM"
      },
      "execution_count": 5,
      "outputs": []
    },
    {
      "cell_type": "code",
      "source": [
        "def augment_data(images, masks, save_path, augment=True):\n",
        "  size=(512,512)\n",
        "\n",
        "  #Now we loop over image and mask\n",
        "  for idx, (x,y) in tqdm(enumerate(zip(images,masks)), total=len(images)):\n",
        "    #extracting name of the image\n",
        "    name = (x.split('/')[-1]).split(\".\")[0]\n",
        "\n",
        "    #Reading the image and mask\n",
        "    #for image we use cv2 and for the mask we use imageio\n",
        "\n",
        "    x = cv2.imread(x, cv2.IMREAD_COLOR)\n",
        "    y = imageio.mimread(y)[0]\n",
        "    if augment == True:\n",
        "      aug = HorizontalFlip(p=1.0)\n",
        "      augmented = aug(image=x, mask=y)\n",
        "      x1 = augmented[\"image\"]\n",
        "      y1 = augmented[\"mask\"]\n",
        "\n",
        "      aug = VerticalFlip(p=1.0)\n",
        "      augmented = aug(image=x, mask=y)\n",
        "      x2 = augmented[\"image\"]\n",
        "      y2 = augmented[\"mask\"]\n",
        "\n",
        "      aug = Rotate(limit=45, p=1.0)\n",
        "      augmented = aug(image=x, mask=y)\n",
        "      x3 = augmented[\"image\"]\n",
        "      y3 = augmented[\"mask\"]\n",
        "\n",
        "      X = [x, x1, x2, x3]\n",
        "      Y = [y, y1, y2, y3]\n",
        "\n",
        "    else:\n",
        "      X = [x]\n",
        "      Y = [y]\n",
        "\n",
        "    index = 0\n",
        "    for i, m in zip(X,Y):\n",
        "      i = cv2.resize(i, size)\n",
        "      m = cv2.resize(m, size)\n",
        "\n",
        "      tmp_image_name = f\"{name}_{index}.png\"\n",
        "      tmp_mask_name = f\"{name}_{index}.png\"\n",
        "\n",
        "      image_path = os.path.join(save_path, \"image\", tmp_image_name)\n",
        "      mask_path = os.path.join(save_path, \"mask\", tmp_mask_name)  \n",
        "\n",
        "      cv2.imwrite(image_path, i)\n",
        "      cv2.imwrite(mask_path, m)  \n",
        "\n",
        "      index+=1\n"
      ],
      "metadata": {
        "id": "QkOGle3_j3V3"
      },
      "execution_count": 6,
      "outputs": []
    },
    {
      "cell_type": "code",
      "source": [
        "if __name__ == \"main\":\n",
        "  np.random.seed(42)"
      ],
      "metadata": {
        "id": "4wRoqZ3RhPxg"
      },
      "execution_count": 7,
      "outputs": []
    },
    {
      "cell_type": "code",
      "source": [
        "##Load the data\n",
        "data_path = \"/content/drive/MyDrive/Retina Vessel Segmentation/DRIVE/\"\n",
        "(train_x, train_y), (test_x,test_y) = load_data(data_path)\n",
        "\n",
        "print(f\"Train: {len(train_x)} - {len(train_y)}\")\n",
        "print(f\"Test: {len(test_x)} - {len(test_y)}\")"
      ],
      "metadata": {
        "colab": {
          "base_uri": "https://localhost:8080/"
        },
        "id": "OvdawDMMhe4p",
        "outputId": "ff4ac939-e5c5-4935-d2be-adde0a639110"
      },
      "execution_count": 8,
      "outputs": [
        {
          "output_type": "stream",
          "name": "stdout",
          "text": [
            "Train: 20 - 20\n",
            "Test: 20 - 20\n"
          ]
        }
      ]
    },
    {
      "cell_type": "code",
      "source": [
        "#Now we create directories to save our augmented data\n",
        "create_dir(\"new_data/train/image/\")\n",
        "create_dir(\"new_data/train/mask/\")\n",
        "create_dir(\"new_data/test/image/\")\n",
        "create_dir(\"new_data/test/mask/\")"
      ],
      "metadata": {
        "id": "SuMxiru6hs2E"
      },
      "execution_count": 9,
      "outputs": []
    },
    {
      "cell_type": "code",
      "source": [
        "#Data augmentation\n",
        "augment_data(train_x,train_y,\"new_data/train/\",augment=False)"
      ],
      "metadata": {
        "colab": {
          "base_uri": "https://localhost:8080/"
        },
        "id": "fsLp_bzzjtfv",
        "outputId": "48cf54e8-253f-4625-cfa2-5d7d806c26c4"
      },
      "execution_count": 10,
      "outputs": [
        {
          "output_type": "stream",
          "name": "stderr",
          "text": [
            "100%|██████████| 20/20 [00:55<00:00,  2.78s/it]\n"
          ]
        }
      ]
    },
    {
      "cell_type": "code",
      "source": [
        "augment_data(test_x,test_y,\"new_data/test/\",augment=False)"
      ],
      "metadata": {
        "colab": {
          "base_uri": "https://localhost:8080/"
        },
        "id": "EETwUiuFkgAB",
        "outputId": "db82a8b6-d1c2-4e88-cec8-b8538a655e59"
      },
      "execution_count": 11,
      "outputs": [
        {
          "output_type": "stream",
          "name": "stderr",
          "text": [
            "100%|██████████| 20/20 [00:38<00:00,  1.91s/it]\n"
          ]
        }
      ]
    },
    {
      "cell_type": "markdown",
      "source": [
        "**CREATING U-NET ARCHITECTURE**"
      ],
      "metadata": {
        "id": "rRKDYW9XvaSA"
      }
    },
    {
      "cell_type": "code",
      "source": [
        "import torch\n",
        "import torch.nn as nn"
      ],
      "metadata": {
        "id": "gFJWt19dvII0"
      },
      "execution_count": 12,
      "outputs": []
    },
    {
      "cell_type": "code",
      "source": [
        "class conv_block(nn.Module):\n",
        "  def __init__(self, in_c, out_c):\n",
        "    super().__init__()\n",
        "\n",
        "    self.conv1 = nn.Conv2d(in_c,out_c,kernel_size=3,padding=1)\n",
        "    self.bn1 = nn.BatchNorm2d(out_c)\n",
        "\n",
        "    self.conv2 = nn.Conv2d(out_c,out_c,kernel_size=3,padding=1)\n",
        "    self.bn2 = nn.BatchNorm2d(out_c)\n",
        "\n",
        "    self.relu = nn.ReLU()\n",
        "\n",
        "  def forward(self, inputs):\n",
        "    x = self.conv1(inputs)\n",
        "    x = self.bn1(x)\n",
        "    x = self.relu(x)\n",
        "\n",
        "    x = self.conv2(x)\n",
        "    x = self.bn2(x)\n",
        "    x = self.relu(x)\n",
        "\n",
        "    return x\n",
        "\n",
        "\n",
        "class encoder_block(nn.Module):\n",
        "  def __init__(self, in_c,out_c):\n",
        "    super().__init__()\n",
        "\n",
        "    self.conv = conv_block(in_c, out_c)\n",
        "    self.pool = nn.MaxPool2d((2,2))\n",
        "\n",
        "  def forward(self, inputs):\n",
        "    x = self.conv(inputs)\n",
        "    p = self.pool(x)\n",
        "\n",
        "    return x,p\n",
        "\n",
        "class decoder_block(nn.Module):\n",
        "  def __init__(self, in_c, out_c):\n",
        "    super().__init__()\n",
        "\n",
        "    self.up = nn.ConvTranspose2d(in_c, out_c, kernel_size=2, stride=2, padding=0)\n",
        "    #Number of input channels will be outputchannles*2\n",
        "    self.conv = conv_block(out_c+out_c, out_c)\n",
        "\n",
        "  def forward(self, inputs, skip):\n",
        "    x = self.up(inputs)\n",
        "    x = torch.cat([x, skip], axis=1)\n",
        "    x = self.conv(x)\n",
        "    return x\n",
        "   \n",
        "\n",
        "\n",
        "class build_unet(nn.Module):\n",
        "    def __init__(self):\n",
        "        super().__init__()\n",
        "\n",
        "        ##Encoder \n",
        "        self.e1 = encoder_block(3, 64)\n",
        "        self.e2 = encoder_block(64, 128)\n",
        "        self.e3 = encoder_block(128, 256)\n",
        "        self.e4 = encoder_block(256, 512)\n",
        "\n",
        "        ##Bottleneck\n",
        "        self.b = conv_block(512, 1024)  \n",
        "\n",
        "        ##Decoder\n",
        "        self.d1 = decoder_block(1024, 512)\n",
        "        self.d2 = decoder_block(512, 256)\n",
        "        self.d3 = decoder_block(256, 128)\n",
        "        self.d4 = decoder_block(128, 64)\n",
        "\n",
        "\n",
        "        ##Classifier \n",
        "        #To generate the final segmentation\n",
        "        self.outputs = nn.Conv2d(64,1, kernel_size=1, padding=0)\n",
        "\n",
        "    \n",
        "    def forward(self, inputs):\n",
        "        ##Encoder \n",
        "        #The output from the encoder layer acts as a skip connection for the decoder layer\n",
        "        #s1 stands for skip connections\n",
        "        #p1 stands for pooling output\n",
        "\n",
        "        s1, p1 = self.e1(inputs)\n",
        "        s2, p2 = self.e2(p1)\n",
        "        s3, p3 = self.e3(p2)\n",
        "        s4, p4 = self.e4(p3)\n",
        "\n",
        "        #Bottleneck\n",
        "        b = self.b(p4)\n",
        "        #print(s1.shape, s2.shape, s3.shape, s4.shape)\n",
        "        #print(b.shape)\n",
        "\n",
        "        ##Decoder\n",
        "        d1 = self.d1(b, s4)\n",
        "        d2 = self.d2(d1, s3)\n",
        "        d3 = self.d3(d2, s2)\n",
        "        d4 = self.d4(d3, s1)\n",
        "\n",
        "        #Classifier\n",
        "        outputs = self.outputs(d4)\n",
        "        return outputs\n",
        "\n",
        "\n",
        "\n",
        "if __name__ == \"__main__\":\n",
        "  x = torch.randn((2,3,512,512))\n",
        "  f = build_unet()\n",
        "  y=f(x)\n",
        "  print(y.shape)"
      ],
      "metadata": {
        "colab": {
          "base_uri": "https://localhost:8080/"
        },
        "id": "envlmumbvjAO",
        "outputId": "0a811d11-61d8-4ab8-abc6-72b00a7ea6f6"
      },
      "execution_count": 13,
      "outputs": [
        {
          "output_type": "stream",
          "name": "stdout",
          "text": [
            "torch.Size([2, 1, 512, 512])\n"
          ]
        }
      ]
    },
    {
      "cell_type": "markdown",
      "source": [
        "**LOSS**"
      ],
      "metadata": {
        "id": "a1aAVuSL6HBg"
      }
    },
    {
      "cell_type": "code",
      "source": [
        "import torch.nn.functional as F\n",
        "\n",
        "class DiceLoss(nn.Module):\n",
        "    def __init__(self, weight=None, size_average=True):\n",
        "        super(DiceLoss, self).__init__()\n",
        "\n",
        "    def forward(self, inputs, targets, smooth=1):\n",
        "\n",
        "        #comment out if your model contains a sigmoid or equivalent activation layer\n",
        "        inputs = torch.sigmoid(inputs)\n",
        "\n",
        "        #flatten label and prediction tensors\n",
        "        inputs = inputs.view(-1)\n",
        "        targets = targets.view(-1)\n",
        "\n",
        "        intersection = (inputs * targets).sum()\n",
        "        dice = (2.*intersection + smooth)/(inputs.sum() + targets.sum() + smooth)\n",
        "\n",
        "        return 1 - dice"
      ],
      "metadata": {
        "id": "rEKJ3S4U6LEG"
      },
      "execution_count": 14,
      "outputs": []
    },
    {
      "cell_type": "code",
      "source": [
        "class DiceBCELoss(nn.Module):\n",
        "    def __init__(self, weight=None, size_average=True):\n",
        "        super(DiceBCELoss, self).__init__()\n",
        "\n",
        "    def forward(self, inputs, targets, smooth=1):\n",
        "\n",
        "        #comment out if your model contains a sigmoid or equivalent activation layer\n",
        "        inputs = torch.sigmoid(inputs)\n",
        "\n",
        "        #flatten label and prediction tensors\n",
        "        inputs = inputs.view(-1)\n",
        "        targets = targets.view(-1)\n",
        "\n",
        "        intersection = (inputs * targets).sum()\n",
        "        dice_loss = 1 - (2.*intersection + smooth)/(inputs.sum() + targets.sum() + smooth)\n",
        "        BCE = F.binary_cross_entropy(inputs, targets, reduction='mean')\n",
        "        Dice_BCE = BCE + dice_loss\n",
        "\n",
        "        return Dice_BCE"
      ],
      "metadata": {
        "id": "nzNm_HP46Qb_"
      },
      "execution_count": 15,
      "outputs": []
    },
    {
      "cell_type": "markdown",
      "source": [
        "**UTILS**"
      ],
      "metadata": {
        "id": "kjhp7D2n6WmY"
      }
    },
    {
      "cell_type": "code",
      "source": [
        "import os\n",
        "import time\n",
        "import random\n",
        "import numpy as np\n",
        "import cv2\n",
        "import torch\n",
        "\n",
        "##Seeding the randomness\n",
        "def seeding(seed):\n",
        "    random.seed(seed)\n",
        "    os.environ[\"PYTHONHASHSEED\"] = str(seed)\n",
        "    np.random.seed(seed)\n",
        "    torch.manual_seed(seed)\n",
        "    torch.cuda.manual_seed(seed)\n",
        "    torch.backends.cudnn.deterministic = True\n",
        "\n",
        "##Create a directory\n",
        "def create_dir(path):\n",
        "    if not os.path.exists(path):\n",
        "        os.makedirs(path)\n",
        "\n",
        "##Calculate the time taken\n",
        "def epoch_time(start_time, end_time):\n",
        "    elapsed_time = end_time - start_time\n",
        "    elapsed_mins = int(elapsed_time / 60)\n",
        "    elapsed_secs = int(elapsed_time - (elapsed_mins * 60))\n",
        "    return elapsed_mins, elapsed_secs"
      ],
      "metadata": {
        "id": "jLpG3hzv6Zp_"
      },
      "execution_count": 16,
      "outputs": []
    },
    {
      "cell_type": "markdown",
      "source": [
        "**TRAINING**"
      ],
      "metadata": {
        "id": "EufHoK3H5sQ4"
      }
    },
    {
      "cell_type": "code",
      "source": [
        "import os\n",
        "import time\n",
        "from glob import glob\n",
        "\n",
        "from torch.utils.data import DataLoader"
      ],
      "metadata": {
        "id": "ml__ECvtwLWW"
      },
      "execution_count": 17,
      "outputs": []
    },
    {
      "cell_type": "code",
      "source": [
        "if __name__ == \"__main__\":\n",
        "  #Seeding\n",
        "  seeding(42)\n",
        "\n",
        "  #Saving the checkpoints and other files\n",
        "  create_dir(\"files\")\n",
        "\n",
        "  #load the dataset\n",
        "  train_x = sorted(glob(\"/content/new_data/train/image/*\"))\n",
        "  train_y = sorted(glob(\"/content/new_data/train/mask/*\"))\n",
        "\n",
        "  valid_x = sorted(glob(\"/content/new_data/test/image/*\"))\n",
        "  valid_y = sorted(glob(\"/content/new_data/test/mask/*\"))\n",
        "\n",
        "  data_str = f\"Dataset Size:\\nTrain: {len(train_x)} - Valid:{len(test_x)}\"\n",
        "  print(data_str)"
      ],
      "metadata": {
        "colab": {
          "base_uri": "https://localhost:8080/"
        },
        "id": "Byp6vkmN58Zl",
        "outputId": "14460ef8-9cd2-47d7-931f-80c25b963b7a"
      },
      "execution_count": 18,
      "outputs": [
        {
          "output_type": "stream",
          "name": "stdout",
          "text": [
            "Dataset Size:\n",
            "Train: 20 - Valid:20\n"
          ]
        }
      ]
    },
    {
      "cell_type": "code",
      "source": [
        "##Hyperparameters\n",
        "H = 512\n",
        "W = 512\n",
        "size = (H,W)\n",
        "batch_size = 2\n",
        "num_epochs = 50\n",
        "lr = 3e-4\n",
        "checkpoint_path = \"files/checkpoint.pth\"\n",
        "device = \"cuda\" if torch.cuda.is_available() else \"cpu\"\n",
        "print(device)"
      ],
      "metadata": {
        "colab": {
          "base_uri": "https://localhost:8080/"
        },
        "id": "fo_nVyCK7Yll",
        "outputId": "5556d823-b4b9-44ca-db9e-09eb06a220cc"
      },
      "execution_count": 19,
      "outputs": [
        {
          "output_type": "stream",
          "name": "stdout",
          "text": [
            "cuda\n"
          ]
        }
      ]
    },
    {
      "cell_type": "markdown",
      "source": [
        "**DATASET AND LOADER**"
      ],
      "metadata": {
        "id": "-JM99Ucx9OR6"
      }
    },
    {
      "cell_type": "code",
      "source": [
        "import os \n",
        "import numpy as np\n",
        "import cv2\n",
        "import torch\n",
        "from torch.utils.data import Dataset"
      ],
      "metadata": {
        "id": "BOSg1eWh8Xx8"
      },
      "execution_count": 20,
      "outputs": []
    },
    {
      "cell_type": "code",
      "source": [
        "class DriveDataset(Dataset):\n",
        "  def __init__(self, images_path, masks_path):\n",
        "    self.images_path = images_path\n",
        "    self.masks_path = masks_path\n",
        "    self.n_samples = len(images_path)\n",
        "\n",
        "  def __getitem__(self, index):\n",
        "    #Reading the image\n",
        "    #Read the image in RGB format\n",
        "    image = cv2.imread(self.images_path[index], cv2.IMREAD_COLOR)\n",
        "    #Normalize the image by dividing with 255\n",
        "    image = image/255.0\n",
        "    #Transpose the image since it had channel last approach and for pytorch we need channel first\n",
        "    image = np.transpose(image, (2,0,1))\n",
        "    #Then we convert it into float32\n",
        "    image = image.astype(np.float32)\n",
        "    #Then we convert it to a torch tensor\n",
        "    image = torch.from_numpy(image)\n",
        "\n",
        "    #Reading the mask\n",
        "    #We do not need transpose for mask\n",
        "    mask = cv2.imread(self.masks_path[index], cv2.IMREAD_GRAYSCALE)\n",
        "    mask = mask/255.0\n",
        "    mask = np.expand_dims(mask, axis=0)##(1,512,512)\n",
        "    mask = mask.astype(np.float32)\n",
        "    mask = torch.from_numpy(mask)\n",
        "\n",
        "    return image, mask\n",
        "\n",
        "  def __len__(self):\n",
        "    return self.n_samples\n"
      ],
      "metadata": {
        "id": "sGoOgIyp9N1Q"
      },
      "execution_count": 21,
      "outputs": []
    },
    {
      "cell_type": "code",
      "source": [
        "train_dataset = DriveDataset(train_x, train_y)\n",
        "valid_dataset = DriveDataset(valid_x, valid_y)\n",
        "\n",
        "train_loader = DataLoader(\n",
        "    dataset = train_dataset,\n",
        "    batch_size = batch_size,\n",
        "    shuffle = True,\n",
        "    num_workers=2\n",
        ")\n",
        "\n",
        "valid_loader = DataLoader(\n",
        "    dataset = valid_dataset,\n",
        "    batch_size = batch_size,\n",
        "    shuffle = False,\n",
        "    num_workers=2\n",
        ")"
      ],
      "metadata": {
        "id": "pAbCdie7-xVC"
      },
      "execution_count": 22,
      "outputs": []
    },
    {
      "cell_type": "code",
      "source": [
        "##Initialising the model\n",
        "model = build_unet()\n",
        "model = model.to(device=device)\n",
        "\n",
        "optimizer = torch.optim.Adam(model.parameters(), lr=lr)\n",
        "scheduler = torch.optim.lr_scheduler.ReduceLROnPlateau(optimizer,'min', patience=5, verbose=True)\n",
        "loss_fn = DiceBCELoss()"
      ],
      "metadata": {
        "id": "18OXX0zo_alM"
      },
      "execution_count": 23,
      "outputs": []
    },
    {
      "cell_type": "code",
      "source": [
        "import os, time\n",
        "from operator import add\n",
        "import numpy as np\n",
        "from glob import glob\n",
        "import cv2\n",
        "from tqdm import tqdm\n",
        "import imageio\n",
        "import torch\n",
        "from sklearn.metrics import accuracy_score, f1_score, jaccard_score, precision_score, recall_score\n",
        "\n",
        "def calculate_metrics(y_true, y_pred, type=\"All\"):\n",
        "    ##Ground truth\n",
        "    y_true = y_true.cpu().detach().numpy()\n",
        "    y_true = y_true > 0.5\n",
        "    y_true = y_true.astype(np.uint8)\n",
        "    y_true = y_true.reshape(-1)\n",
        "\n",
        "    ##Prediction \n",
        "    y_pred = y_pred.cpu().detach().numpy()\n",
        "    y_pred = y_pred > 0.5\n",
        "    y_pred = y_pred.astype(np.uint8)\n",
        "    y_pred = y_pred.reshape(-1)\n",
        "\n",
        "    score_jaccard = jaccard_score(y_true, y_pred)\n",
        "    score_f1 = f1_score(y_true, y_pred)\n",
        "    score_recall = recall_score(y_true, y_pred)\n",
        "    score_precision = precision_score(y_true, y_pred)\n",
        "    score_acc = accuracy_score(y_true, y_pred)\n",
        "\n",
        "    if type == \"Jaccard\":\n",
        "      return score_jaccard\n",
        "    elif type == \"F1\":\n",
        "      return score_f1\n",
        "    elif type == \"Recall\":\n",
        "      return score_recall\n",
        "    elif type == \"Precision\":\n",
        "      return score_precision\n",
        "    elif type == \"Accuracy\":\n",
        "      return score_acc\n",
        "    else:\n",
        "      return [score_jaccard,score_f1,score_recall,score_precision,score_acc]"
      ],
      "metadata": {
        "id": "CHP7wf0_23N9"
      },
      "execution_count": 24,
      "outputs": []
    },
    {
      "cell_type": "code",
      "source": [
        "##Specify the training function\n",
        "\n",
        "def train(model, loader, optimizer, loss_fn, device):\n",
        "  epoch_loss = 0.0\n",
        "  model.train()\n",
        "  for x,y in tqdm(loader):\n",
        "    x = x.to(device, dtype=torch.float32)\n",
        "    y = y.to(device, dtype=torch.float32)\n",
        "\n",
        "    #Optimizer put to zero grad\n",
        "    optimizer.zero_grad()\n",
        "    #Making a prediction\n",
        "    y_pred = model(x)\n",
        "    #Calculating loss\n",
        "    loss = loss_fn(y_pred, y)\n",
        "    #Backward step\n",
        "    loss.backward()\n",
        "    #Optimizer step\n",
        "    optimizer.step()\n",
        "    #Getting the loss for that epoch\n",
        "    epoch_loss+=loss.item()\n",
        "    \n",
        "\n",
        "  #Calculating mean loss\n",
        "  epoch_loss = epoch_loss/len(loader)\n",
        "\n",
        "  return epoch_loss"
      ],
      "metadata": {
        "id": "Ad4jPzt6ACkY"
      },
      "execution_count": 25,
      "outputs": []
    },
    {
      "cell_type": "code",
      "source": [
        "##Specify the evaluate function\n",
        "def evaluate(model, loader, loss_fn, device):\n",
        "  epoch_loss = 0.0\n",
        "  model.eval()\n",
        "  with torch.no_grad():\n",
        "    for x,y in tqdm(loader):\n",
        "      x = x.to(device, dtype=torch.float32)\n",
        "      y = y.to(device, dtype=torch.float32)\n",
        "\n",
        "      y_pred = model(x)\n",
        "      loss = loss_fn(y_pred,y)\n",
        "\n",
        "      epoch_loss+=loss.item()\n",
        "\n",
        "  #Calculating mean loss\n",
        "  epoch_loss = epoch_loss/len(loader)\n",
        "  return epoch_loss"
      ],
      "metadata": {
        "id": "QP8uT9RJCTPv"
      },
      "execution_count": 26,
      "outputs": []
    },
    {
      "cell_type": "code",
      "source": [
        "##Training the model\n",
        "best_valid_loss = float(\"inf\")\n",
        "loss_store = []\n",
        "val_loss_store = []\n",
        "epoch_count = []\n",
        "\n",
        "for epoch in range(num_epochs):\n",
        "  start_time = time.time()\n",
        "  train_loss = train(model, train_loader, optimizer, loss_fn, device)\n",
        "  loss_store.append(train_loss)\n",
        "  valid_loss = evaluate(model, valid_loader, loss_fn, device)\n",
        "  val_loss_store.append(valid_loss)\n",
        "\n",
        "  #Saving the model\n",
        "  if valid_loss < best_valid_loss:\n",
        "    data_str = f\"Valid loss improved from {best_valid_loss:2.4f} to {valid_loss:4f}\"\n",
        "    print(data_str)\n",
        "\n",
        "    best_valid_loss = valid_loss\n",
        "    torch.save(model.state_dict(), checkpoint_path)\n",
        "\n",
        "  end_time = time.time()\n",
        "  epoch_mins, epoch_secs = epoch_time(start_time, end_time)\n",
        "\n",
        "  #Storing values\n",
        "  epoch_count.append(epoch)\n",
        "\n",
        "\n",
        "  data_str = f'Epoch: {epoch+1:02} | Epoch Time: {epoch_mins}m {epoch_secs}s\\n'\n",
        "  data_str += f'\\tTrain Loss: {train_loss:.3f}\\n'\n",
        "  data_str += f'\\t Val. Loss: {valid_loss:.3f}\\n'\n",
        "  print(data_str)"
      ],
      "metadata": {
        "colab": {
          "base_uri": "https://localhost:8080/"
        },
        "id": "8H_qe5u1_c0o",
        "outputId": "741f664c-6ca4-452a-8748-d61b12061ba9"
      },
      "execution_count": 27,
      "outputs": [
        {
          "output_type": "stream",
          "name": "stderr",
          "text": [
            "100%|██████████| 10/10 [00:14<00:00,  1.41s/it]\n",
            "100%|██████████| 10/10 [00:02<00:00,  3.87it/s]\n"
          ]
        },
        {
          "output_type": "stream",
          "name": "stdout",
          "text": [
            "Valid loss improved from inf to 1.450099\n",
            "Epoch: 01 | Epoch Time: 0m 16s\n",
            "\tTrain Loss: 1.261\n",
            "\t Val. Loss: 1.450\n",
            "\n"
          ]
        },
        {
          "output_type": "stream",
          "name": "stderr",
          "text": [
            "100%|██████████| 10/10 [00:07<00:00,  1.42it/s]\n",
            "100%|██████████| 10/10 [00:02<00:00,  3.82it/s]\n"
          ]
        },
        {
          "output_type": "stream",
          "name": "stdout",
          "text": [
            "Valid loss improved from 1.4501 to 1.381076\n",
            "Epoch: 02 | Epoch Time: 0m 9s\n",
            "\tTrain Loss: 1.061\n",
            "\t Val. Loss: 1.381\n",
            "\n"
          ]
        },
        {
          "output_type": "stream",
          "name": "stderr",
          "text": [
            "100%|██████████| 10/10 [00:07<00:00,  1.41it/s]\n",
            "100%|██████████| 10/10 [00:02<00:00,  3.80it/s]\n"
          ]
        },
        {
          "output_type": "stream",
          "name": "stdout",
          "text": [
            "Valid loss improved from 1.3811 to 1.359143\n",
            "Epoch: 03 | Epoch Time: 0m 10s\n",
            "\tTrain Loss: 0.985\n",
            "\t Val. Loss: 1.359\n",
            "\n"
          ]
        },
        {
          "output_type": "stream",
          "name": "stderr",
          "text": [
            "100%|██████████| 10/10 [00:07<00:00,  1.40it/s]\n",
            "100%|██████████| 10/10 [00:02<00:00,  3.75it/s]\n"
          ]
        },
        {
          "output_type": "stream",
          "name": "stdout",
          "text": [
            "Valid loss improved from 1.3591 to 1.226562\n",
            "Epoch: 04 | Epoch Time: 0m 10s\n",
            "\tTrain Loss: 0.941\n",
            "\t Val. Loss: 1.227\n",
            "\n"
          ]
        },
        {
          "output_type": "stream",
          "name": "stderr",
          "text": [
            "100%|██████████| 10/10 [00:07<00:00,  1.40it/s]\n",
            "100%|██████████| 10/10 [00:02<00:00,  3.70it/s]\n"
          ]
        },
        {
          "output_type": "stream",
          "name": "stdout",
          "text": [
            "Valid loss improved from 1.2266 to 1.082860\n",
            "Epoch: 05 | Epoch Time: 0m 10s\n",
            "\tTrain Loss: 0.909\n",
            "\t Val. Loss: 1.083\n",
            "\n"
          ]
        },
        {
          "output_type": "stream",
          "name": "stderr",
          "text": [
            "100%|██████████| 10/10 [00:07<00:00,  1.38it/s]\n",
            "100%|██████████| 10/10 [00:02<00:00,  3.72it/s]\n"
          ]
        },
        {
          "output_type": "stream",
          "name": "stdout",
          "text": [
            "Valid loss improved from 1.0829 to 0.955856\n",
            "Epoch: 06 | Epoch Time: 0m 10s\n",
            "\tTrain Loss: 0.874\n",
            "\t Val. Loss: 0.956\n",
            "\n"
          ]
        },
        {
          "output_type": "stream",
          "name": "stderr",
          "text": [
            "100%|██████████| 10/10 [00:07<00:00,  1.38it/s]\n",
            "100%|██████████| 10/10 [00:02<00:00,  3.74it/s]\n"
          ]
        },
        {
          "output_type": "stream",
          "name": "stdout",
          "text": [
            "Valid loss improved from 0.9559 to 0.875927\n",
            "Epoch: 07 | Epoch Time: 0m 10s\n",
            "\tTrain Loss: 0.844\n",
            "\t Val. Loss: 0.876\n",
            "\n"
          ]
        },
        {
          "output_type": "stream",
          "name": "stderr",
          "text": [
            "100%|██████████| 10/10 [00:07<00:00,  1.37it/s]\n",
            "100%|██████████| 10/10 [00:02<00:00,  3.70it/s]\n"
          ]
        },
        {
          "output_type": "stream",
          "name": "stdout",
          "text": [
            "Valid loss improved from 0.8759 to 0.838644\n",
            "Epoch: 08 | Epoch Time: 0m 10s\n",
            "\tTrain Loss: 0.820\n",
            "\t Val. Loss: 0.839\n",
            "\n"
          ]
        },
        {
          "output_type": "stream",
          "name": "stderr",
          "text": [
            "100%|██████████| 10/10 [00:07<00:00,  1.36it/s]\n",
            "100%|██████████| 10/10 [00:02<00:00,  3.62it/s]\n"
          ]
        },
        {
          "output_type": "stream",
          "name": "stdout",
          "text": [
            "Valid loss improved from 0.8386 to 0.823341\n",
            "Epoch: 09 | Epoch Time: 0m 10s\n",
            "\tTrain Loss: 0.793\n",
            "\t Val. Loss: 0.823\n",
            "\n"
          ]
        },
        {
          "output_type": "stream",
          "name": "stderr",
          "text": [
            "100%|██████████| 10/10 [00:07<00:00,  1.36it/s]\n",
            "100%|██████████| 10/10 [00:02<00:00,  3.64it/s]\n"
          ]
        },
        {
          "output_type": "stream",
          "name": "stdout",
          "text": [
            "Valid loss improved from 0.8233 to 0.798941\n",
            "Epoch: 10 | Epoch Time: 0m 10s\n",
            "\tTrain Loss: 0.764\n",
            "\t Val. Loss: 0.799\n",
            "\n"
          ]
        },
        {
          "output_type": "stream",
          "name": "stderr",
          "text": [
            "100%|██████████| 10/10 [00:07<00:00,  1.36it/s]\n",
            "100%|██████████| 10/10 [00:02<00:00,  3.62it/s]\n"
          ]
        },
        {
          "output_type": "stream",
          "name": "stdout",
          "text": [
            "Valid loss improved from 0.7989 to 0.755131\n",
            "Epoch: 11 | Epoch Time: 0m 10s\n",
            "\tTrain Loss: 0.742\n",
            "\t Val. Loss: 0.755\n",
            "\n"
          ]
        },
        {
          "output_type": "stream",
          "name": "stderr",
          "text": [
            "100%|██████████| 10/10 [00:07<00:00,  1.36it/s]\n",
            "100%|██████████| 10/10 [00:02<00:00,  3.64it/s]\n"
          ]
        },
        {
          "output_type": "stream",
          "name": "stdout",
          "text": [
            "Valid loss improved from 0.7551 to 0.740315\n",
            "Epoch: 12 | Epoch Time: 0m 10s\n",
            "\tTrain Loss: 0.717\n",
            "\t Val. Loss: 0.740\n",
            "\n"
          ]
        },
        {
          "output_type": "stream",
          "name": "stderr",
          "text": [
            "100%|██████████| 10/10 [00:07<00:00,  1.35it/s]\n",
            "100%|██████████| 10/10 [00:02<00:00,  3.65it/s]\n"
          ]
        },
        {
          "output_type": "stream",
          "name": "stdout",
          "text": [
            "Valid loss improved from 0.7403 to 0.697027\n",
            "Epoch: 13 | Epoch Time: 0m 10s\n",
            "\tTrain Loss: 0.695\n",
            "\t Val. Loss: 0.697\n",
            "\n"
          ]
        },
        {
          "output_type": "stream",
          "name": "stderr",
          "text": [
            "100%|██████████| 10/10 [00:07<00:00,  1.35it/s]\n",
            "100%|██████████| 10/10 [00:02<00:00,  3.64it/s]\n"
          ]
        },
        {
          "output_type": "stream",
          "name": "stdout",
          "text": [
            "Valid loss improved from 0.6970 to 0.657634\n",
            "Epoch: 14 | Epoch Time: 0m 10s\n",
            "\tTrain Loss: 0.668\n",
            "\t Val. Loss: 0.658\n",
            "\n"
          ]
        },
        {
          "output_type": "stream",
          "name": "stderr",
          "text": [
            "100%|██████████| 10/10 [00:07<00:00,  1.35it/s]\n",
            "100%|██████████| 10/10 [00:02<00:00,  3.61it/s]\n"
          ]
        },
        {
          "output_type": "stream",
          "name": "stdout",
          "text": [
            "Valid loss improved from 0.6576 to 0.654750\n",
            "Epoch: 15 | Epoch Time: 0m 10s\n",
            "\tTrain Loss: 0.647\n",
            "\t Val. Loss: 0.655\n",
            "\n"
          ]
        },
        {
          "output_type": "stream",
          "name": "stderr",
          "text": [
            "100%|██████████| 10/10 [00:07<00:00,  1.34it/s]\n",
            "100%|██████████| 10/10 [00:02<00:00,  3.60it/s]\n"
          ]
        },
        {
          "output_type": "stream",
          "name": "stdout",
          "text": [
            "Valid loss improved from 0.6548 to 0.624092\n",
            "Epoch: 16 | Epoch Time: 0m 10s\n",
            "\tTrain Loss: 0.630\n",
            "\t Val. Loss: 0.624\n",
            "\n"
          ]
        },
        {
          "output_type": "stream",
          "name": "stderr",
          "text": [
            "100%|██████████| 10/10 [00:07<00:00,  1.34it/s]\n",
            "100%|██████████| 10/10 [00:02<00:00,  3.57it/s]\n"
          ]
        },
        {
          "output_type": "stream",
          "name": "stdout",
          "text": [
            "Epoch: 17 | Epoch Time: 0m 10s\n",
            "\tTrain Loss: 0.607\n",
            "\t Val. Loss: 0.638\n",
            "\n"
          ]
        },
        {
          "output_type": "stream",
          "name": "stderr",
          "text": [
            "100%|██████████| 10/10 [00:07<00:00,  1.33it/s]\n",
            "100%|██████████| 10/10 [00:02<00:00,  3.60it/s]\n"
          ]
        },
        {
          "output_type": "stream",
          "name": "stdout",
          "text": [
            "Valid loss improved from 0.6241 to 0.617603\n",
            "Epoch: 18 | Epoch Time: 0m 10s\n",
            "\tTrain Loss: 0.592\n",
            "\t Val. Loss: 0.618\n",
            "\n"
          ]
        },
        {
          "output_type": "stream",
          "name": "stderr",
          "text": [
            "100%|██████████| 10/10 [00:07<00:00,  1.34it/s]\n",
            "100%|██████████| 10/10 [00:02<00:00,  3.59it/s]\n"
          ]
        },
        {
          "output_type": "stream",
          "name": "stdout",
          "text": [
            "Valid loss improved from 0.6176 to 0.588074\n",
            "Epoch: 19 | Epoch Time: 0m 10s\n",
            "\tTrain Loss: 0.574\n",
            "\t Val. Loss: 0.588\n",
            "\n"
          ]
        },
        {
          "output_type": "stream",
          "name": "stderr",
          "text": [
            "100%|██████████| 10/10 [00:07<00:00,  1.33it/s]\n",
            "100%|██████████| 10/10 [00:02<00:00,  3.59it/s]\n"
          ]
        },
        {
          "output_type": "stream",
          "name": "stdout",
          "text": [
            "Valid loss improved from 0.5881 to 0.564364\n",
            "Epoch: 20 | Epoch Time: 0m 10s\n",
            "\tTrain Loss: 0.564\n",
            "\t Val. Loss: 0.564\n",
            "\n"
          ]
        },
        {
          "output_type": "stream",
          "name": "stderr",
          "text": [
            "100%|██████████| 10/10 [00:07<00:00,  1.32it/s]\n",
            "100%|██████████| 10/10 [00:02<00:00,  3.57it/s]\n"
          ]
        },
        {
          "output_type": "stream",
          "name": "stdout",
          "text": [
            "Valid loss improved from 0.5644 to 0.552886\n",
            "Epoch: 21 | Epoch Time: 0m 10s\n",
            "\tTrain Loss: 0.547\n",
            "\t Val. Loss: 0.553\n",
            "\n"
          ]
        },
        {
          "output_type": "stream",
          "name": "stderr",
          "text": [
            "100%|██████████| 10/10 [00:07<00:00,  1.32it/s]\n",
            "100%|██████████| 10/10 [00:02<00:00,  3.55it/s]\n"
          ]
        },
        {
          "output_type": "stream",
          "name": "stdout",
          "text": [
            "Valid loss improved from 0.5529 to 0.543666\n",
            "Epoch: 22 | Epoch Time: 0m 10s\n",
            "\tTrain Loss: 0.533\n",
            "\t Val. Loss: 0.544\n",
            "\n"
          ]
        },
        {
          "output_type": "stream",
          "name": "stderr",
          "text": [
            "100%|██████████| 10/10 [00:07<00:00,  1.32it/s]\n",
            "100%|██████████| 10/10 [00:02<00:00,  3.54it/s]\n"
          ]
        },
        {
          "output_type": "stream",
          "name": "stdout",
          "text": [
            "Epoch: 23 | Epoch Time: 0m 10s\n",
            "\tTrain Loss: 0.518\n",
            "\t Val. Loss: 0.569\n",
            "\n"
          ]
        },
        {
          "output_type": "stream",
          "name": "stderr",
          "text": [
            "100%|██████████| 10/10 [00:07<00:00,  1.32it/s]\n",
            "100%|██████████| 10/10 [00:02<00:00,  3.54it/s]\n"
          ]
        },
        {
          "output_type": "stream",
          "name": "stdout",
          "text": [
            "Valid loss improved from 0.5437 to 0.510079\n",
            "Epoch: 24 | Epoch Time: 0m 10s\n",
            "\tTrain Loss: 0.501\n",
            "\t Val. Loss: 0.510\n",
            "\n"
          ]
        },
        {
          "output_type": "stream",
          "name": "stderr",
          "text": [
            "100%|██████████| 10/10 [00:07<00:00,  1.32it/s]\n",
            "100%|██████████| 10/10 [00:02<00:00,  3.56it/s]\n"
          ]
        },
        {
          "output_type": "stream",
          "name": "stdout",
          "text": [
            "Valid loss improved from 0.5101 to 0.503870\n",
            "Epoch: 25 | Epoch Time: 0m 10s\n",
            "\tTrain Loss: 0.488\n",
            "\t Val. Loss: 0.504\n",
            "\n"
          ]
        },
        {
          "output_type": "stream",
          "name": "stderr",
          "text": [
            "100%|██████████| 10/10 [00:07<00:00,  1.32it/s]\n",
            "100%|██████████| 10/10 [00:02<00:00,  3.56it/s]\n"
          ]
        },
        {
          "output_type": "stream",
          "name": "stdout",
          "text": [
            "Valid loss improved from 0.5039 to 0.491449\n",
            "Epoch: 26 | Epoch Time: 0m 10s\n",
            "\tTrain Loss: 0.477\n",
            "\t Val. Loss: 0.491\n",
            "\n"
          ]
        },
        {
          "output_type": "stream",
          "name": "stderr",
          "text": [
            "100%|██████████| 10/10 [00:07<00:00,  1.32it/s]\n",
            "100%|██████████| 10/10 [00:02<00:00,  3.56it/s]\n"
          ]
        },
        {
          "output_type": "stream",
          "name": "stdout",
          "text": [
            "Epoch: 27 | Epoch Time: 0m 10s\n",
            "\tTrain Loss: 0.473\n",
            "\t Val. Loss: 0.587\n",
            "\n"
          ]
        },
        {
          "output_type": "stream",
          "name": "stderr",
          "text": [
            "100%|██████████| 10/10 [00:07<00:00,  1.31it/s]\n",
            "100%|██████████| 10/10 [00:02<00:00,  3.54it/s]\n"
          ]
        },
        {
          "output_type": "stream",
          "name": "stdout",
          "text": [
            "Valid loss improved from 0.4914 to 0.480668\n",
            "Epoch: 28 | Epoch Time: 0m 10s\n",
            "\tTrain Loss: 0.461\n",
            "\t Val. Loss: 0.481\n",
            "\n"
          ]
        },
        {
          "output_type": "stream",
          "name": "stderr",
          "text": [
            "100%|██████████| 10/10 [00:07<00:00,  1.31it/s]\n",
            "100%|██████████| 10/10 [00:02<00:00,  3.53it/s]\n"
          ]
        },
        {
          "output_type": "stream",
          "name": "stdout",
          "text": [
            "Valid loss improved from 0.4807 to 0.467748\n",
            "Epoch: 29 | Epoch Time: 0m 10s\n",
            "\tTrain Loss: 0.458\n",
            "\t Val. Loss: 0.468\n",
            "\n"
          ]
        },
        {
          "output_type": "stream",
          "name": "stderr",
          "text": [
            "100%|██████████| 10/10 [00:07<00:00,  1.31it/s]\n",
            "100%|██████████| 10/10 [00:02<00:00,  3.53it/s]\n"
          ]
        },
        {
          "output_type": "stream",
          "name": "stdout",
          "text": [
            "Valid loss improved from 0.4677 to 0.453948\n",
            "Epoch: 30 | Epoch Time: 0m 10s\n",
            "\tTrain Loss: 0.443\n",
            "\t Val. Loss: 0.454\n",
            "\n"
          ]
        },
        {
          "output_type": "stream",
          "name": "stderr",
          "text": [
            "100%|██████████| 10/10 [00:07<00:00,  1.31it/s]\n",
            "100%|██████████| 10/10 [00:02<00:00,  3.52it/s]\n"
          ]
        },
        {
          "output_type": "stream",
          "name": "stdout",
          "text": [
            "Valid loss improved from 0.4539 to 0.450304\n",
            "Epoch: 31 | Epoch Time: 0m 10s\n",
            "\tTrain Loss: 0.434\n",
            "\t Val. Loss: 0.450\n",
            "\n"
          ]
        },
        {
          "output_type": "stream",
          "name": "stderr",
          "text": [
            "100%|██████████| 10/10 [00:07<00:00,  1.31it/s]\n",
            "100%|██████████| 10/10 [00:02<00:00,  3.55it/s]\n"
          ]
        },
        {
          "output_type": "stream",
          "name": "stdout",
          "text": [
            "Epoch: 32 | Epoch Time: 0m 10s\n",
            "\tTrain Loss: 0.423\n",
            "\t Val. Loss: 0.452\n",
            "\n"
          ]
        },
        {
          "output_type": "stream",
          "name": "stderr",
          "text": [
            "100%|██████████| 10/10 [00:07<00:00,  1.31it/s]\n",
            "100%|██████████| 10/10 [00:02<00:00,  3.52it/s]\n"
          ]
        },
        {
          "output_type": "stream",
          "name": "stdout",
          "text": [
            "Epoch: 33 | Epoch Time: 0m 10s\n",
            "\tTrain Loss: 0.418\n",
            "\t Val. Loss: 0.451\n",
            "\n"
          ]
        },
        {
          "output_type": "stream",
          "name": "stderr",
          "text": [
            "100%|██████████| 10/10 [00:07<00:00,  1.31it/s]\n",
            "100%|██████████| 10/10 [00:02<00:00,  3.54it/s]\n"
          ]
        },
        {
          "output_type": "stream",
          "name": "stdout",
          "text": [
            "Valid loss improved from 0.4503 to 0.426770\n",
            "Epoch: 34 | Epoch Time: 0m 10s\n",
            "\tTrain Loss: 0.413\n",
            "\t Val. Loss: 0.427\n",
            "\n"
          ]
        },
        {
          "output_type": "stream",
          "name": "stderr",
          "text": [
            "100%|██████████| 10/10 [00:07<00:00,  1.31it/s]\n",
            "100%|██████████| 10/10 [00:02<00:00,  3.53it/s]\n"
          ]
        },
        {
          "output_type": "stream",
          "name": "stdout",
          "text": [
            "Epoch: 35 | Epoch Time: 0m 10s\n",
            "\tTrain Loss: 0.408\n",
            "\t Val. Loss: 0.477\n",
            "\n"
          ]
        },
        {
          "output_type": "stream",
          "name": "stderr",
          "text": [
            "100%|██████████| 10/10 [00:07<00:00,  1.30it/s]\n",
            "100%|██████████| 10/10 [00:02<00:00,  3.52it/s]\n"
          ]
        },
        {
          "output_type": "stream",
          "name": "stdout",
          "text": [
            "Epoch: 36 | Epoch Time: 0m 10s\n",
            "\tTrain Loss: 0.407\n",
            "\t Val. Loss: 0.428\n",
            "\n"
          ]
        },
        {
          "output_type": "stream",
          "name": "stderr",
          "text": [
            "100%|██████████| 10/10 [00:07<00:00,  1.31it/s]\n",
            "100%|██████████| 10/10 [00:02<00:00,  3.51it/s]\n"
          ]
        },
        {
          "output_type": "stream",
          "name": "stdout",
          "text": [
            "Epoch: 37 | Epoch Time: 0m 10s\n",
            "\tTrain Loss: 0.400\n",
            "\t Val. Loss: 0.435\n",
            "\n"
          ]
        },
        {
          "output_type": "stream",
          "name": "stderr",
          "text": [
            "100%|██████████| 10/10 [00:07<00:00,  1.30it/s]\n",
            "100%|██████████| 10/10 [00:02<00:00,  3.53it/s]\n"
          ]
        },
        {
          "output_type": "stream",
          "name": "stdout",
          "text": [
            "Epoch: 38 | Epoch Time: 0m 10s\n",
            "\tTrain Loss: 0.398\n",
            "\t Val. Loss: 0.430\n",
            "\n"
          ]
        },
        {
          "output_type": "stream",
          "name": "stderr",
          "text": [
            "100%|██████████| 10/10 [00:07<00:00,  1.31it/s]\n",
            "100%|██████████| 10/10 [00:02<00:00,  3.53it/s]\n"
          ]
        },
        {
          "output_type": "stream",
          "name": "stdout",
          "text": [
            "Valid loss improved from 0.4268 to 0.408106\n",
            "Epoch: 39 | Epoch Time: 0m 10s\n",
            "\tTrain Loss: 0.389\n",
            "\t Val. Loss: 0.408\n",
            "\n"
          ]
        },
        {
          "output_type": "stream",
          "name": "stderr",
          "text": [
            "100%|██████████| 10/10 [00:07<00:00,  1.31it/s]\n",
            "100%|██████████| 10/10 [00:02<00:00,  3.52it/s]\n"
          ]
        },
        {
          "output_type": "stream",
          "name": "stdout",
          "text": [
            "Valid loss improved from 0.4081 to 0.407392\n",
            "Epoch: 40 | Epoch Time: 0m 10s\n",
            "\tTrain Loss: 0.379\n",
            "\t Val. Loss: 0.407\n",
            "\n"
          ]
        },
        {
          "output_type": "stream",
          "name": "stderr",
          "text": [
            "100%|██████████| 10/10 [00:07<00:00,  1.31it/s]\n",
            "100%|██████████| 10/10 [00:02<00:00,  3.53it/s]\n"
          ]
        },
        {
          "output_type": "stream",
          "name": "stdout",
          "text": [
            "Epoch: 41 | Epoch Time: 0m 10s\n",
            "\tTrain Loss: 0.378\n",
            "\t Val. Loss: 0.417\n",
            "\n"
          ]
        },
        {
          "output_type": "stream",
          "name": "stderr",
          "text": [
            "100%|██████████| 10/10 [00:07<00:00,  1.31it/s]\n",
            "100%|██████████| 10/10 [00:02<00:00,  3.54it/s]\n"
          ]
        },
        {
          "output_type": "stream",
          "name": "stdout",
          "text": [
            "Epoch: 42 | Epoch Time: 0m 10s\n",
            "\tTrain Loss: 0.377\n",
            "\t Val. Loss: 0.410\n",
            "\n"
          ]
        },
        {
          "output_type": "stream",
          "name": "stderr",
          "text": [
            "100%|██████████| 10/10 [00:07<00:00,  1.31it/s]\n",
            "100%|██████████| 10/10 [00:02<00:00,  3.51it/s]\n"
          ]
        },
        {
          "output_type": "stream",
          "name": "stdout",
          "text": [
            "Epoch: 43 | Epoch Time: 0m 10s\n",
            "\tTrain Loss: 0.370\n",
            "\t Val. Loss: 0.408\n",
            "\n"
          ]
        },
        {
          "output_type": "stream",
          "name": "stderr",
          "text": [
            "100%|██████████| 10/10 [00:07<00:00,  1.31it/s]\n",
            "100%|██████████| 10/10 [00:02<00:00,  3.49it/s]\n"
          ]
        },
        {
          "output_type": "stream",
          "name": "stdout",
          "text": [
            "Valid loss improved from 0.4074 to 0.405732\n",
            "Epoch: 44 | Epoch Time: 0m 10s\n",
            "\tTrain Loss: 0.369\n",
            "\t Val. Loss: 0.406\n",
            "\n"
          ]
        },
        {
          "output_type": "stream",
          "name": "stderr",
          "text": [
            "100%|██████████| 10/10 [00:07<00:00,  1.31it/s]\n",
            "100%|██████████| 10/10 [00:02<00:00,  3.54it/s]\n"
          ]
        },
        {
          "output_type": "stream",
          "name": "stdout",
          "text": [
            "Valid loss improved from 0.4057 to 0.399726\n",
            "Epoch: 45 | Epoch Time: 0m 10s\n",
            "\tTrain Loss: 0.365\n",
            "\t Val. Loss: 0.400\n",
            "\n"
          ]
        },
        {
          "output_type": "stream",
          "name": "stderr",
          "text": [
            "100%|██████████| 10/10 [00:07<00:00,  1.31it/s]\n",
            "100%|██████████| 10/10 [00:02<00:00,  3.53it/s]\n"
          ]
        },
        {
          "output_type": "stream",
          "name": "stdout",
          "text": [
            "Epoch: 46 | Epoch Time: 0m 10s\n",
            "\tTrain Loss: 0.354\n",
            "\t Val. Loss: 0.400\n",
            "\n"
          ]
        },
        {
          "output_type": "stream",
          "name": "stderr",
          "text": [
            "100%|██████████| 10/10 [00:07<00:00,  1.31it/s]\n",
            "100%|██████████| 10/10 [00:02<00:00,  3.53it/s]\n"
          ]
        },
        {
          "output_type": "stream",
          "name": "stdout",
          "text": [
            "Valid loss improved from 0.3997 to 0.387239\n",
            "Epoch: 47 | Epoch Time: 0m 10s\n",
            "\tTrain Loss: 0.349\n",
            "\t Val. Loss: 0.387\n",
            "\n"
          ]
        },
        {
          "output_type": "stream",
          "name": "stderr",
          "text": [
            "100%|██████████| 10/10 [00:07<00:00,  1.31it/s]\n",
            "100%|██████████| 10/10 [00:02<00:00,  3.53it/s]\n"
          ]
        },
        {
          "output_type": "stream",
          "name": "stdout",
          "text": [
            "Epoch: 48 | Epoch Time: 0m 10s\n",
            "\tTrain Loss: 0.346\n",
            "\t Val. Loss: 0.399\n",
            "\n"
          ]
        },
        {
          "output_type": "stream",
          "name": "stderr",
          "text": [
            "100%|██████████| 10/10 [00:07<00:00,  1.31it/s]\n",
            "100%|██████████| 10/10 [00:02<00:00,  3.53it/s]\n"
          ]
        },
        {
          "output_type": "stream",
          "name": "stdout",
          "text": [
            "Epoch: 49 | Epoch Time: 0m 10s\n",
            "\tTrain Loss: 0.342\n",
            "\t Val. Loss: 0.390\n",
            "\n"
          ]
        },
        {
          "output_type": "stream",
          "name": "stderr",
          "text": [
            "100%|██████████| 10/10 [00:07<00:00,  1.30it/s]\n",
            "100%|██████████| 10/10 [00:02<00:00,  3.50it/s]\n"
          ]
        },
        {
          "output_type": "stream",
          "name": "stdout",
          "text": [
            "Valid loss improved from 0.3872 to 0.383866\n",
            "Epoch: 50 | Epoch Time: 0m 10s\n",
            "\tTrain Loss: 0.339\n",
            "\t Val. Loss: 0.384\n",
            "\n"
          ]
        }
      ]
    },
    {
      "cell_type": "markdown",
      "source": [
        "**CHECKING ACCURACY**"
      ],
      "metadata": {
        "id": "4qHYheWYHfOz"
      }
    },
    {
      "cell_type": "code",
      "source": [
        "def mask_parse(mask):\n",
        "    mask = np.expand_dims(mask, axis=-1)    ## (512, 512, 1)\n",
        "    mask = np.concatenate([mask, mask, mask], axis=-1)  ## (512, 512, 3)\n",
        "    return mask\n",
        "\n",
        "if __name__ == \"__main__\":\n",
        "\n",
        "    jaccard_store = []\n",
        "    precision_store = []\n",
        "    f1_store = []\n",
        "    recall_store = []\n",
        "    acc_store = []\n",
        "    test_epoch_count = []\n",
        "    ##Seeding \n",
        "    seeding(42)\n",
        "\n",
        "    ##Folders\n",
        "    create_dir(\"results\")\n",
        "\n",
        "    ##Load dataset \n",
        "    test_x = sorted(glob(\"/content/new_data/test/image/*\"))\n",
        "    test_y = sorted(glob(\"/content/new_data/test/mask/*\"))\n",
        "\n",
        "    ##Hyperparameters \n",
        "    H = 512\n",
        "    W = 512\n",
        "    size = (W, H)\n",
        "    checkpoint_path = \"files/checkpoint.pth\"\n",
        "\n",
        "    ##Load the checkpoint \n",
        "    device = torch.device('cuda' if torch.cuda.is_available() else 'cpu')\n",
        "\n",
        "    model = build_unet()\n",
        "    model = model.to(device)\n",
        "    model.load_state_dict(torch.load(checkpoint_path, map_location=device))\n",
        "    model.eval()\n",
        "\n",
        "    metrics_score = [0.0, 0.0, 0.0, 0.0, 0.0]\n",
        "    time_taken = []\n",
        "\n",
        "    for i, (x, y) in tqdm(enumerate(zip(test_x, test_y)), total=len(test_x)):\n",
        "        ##Extract the name \n",
        "        name = x.split(\"/\")[-1].split(\".\")[0]\n",
        "\n",
        "        ##Reading image \n",
        "        image = cv2.imread(x, cv2.IMREAD_COLOR) ## (512, 512, 3)\n",
        "        ## image = cv2.resize(image, size)\n",
        "        x = np.transpose(image, (2, 0, 1))      ## (3, 512, 512)\n",
        "        x = x/255.0\n",
        "        x = np.expand_dims(x, axis=0)           ## (1, 3, 512, 512)\n",
        "        x = x.astype(np.float32)\n",
        "        x = torch.from_numpy(x)\n",
        "        x = x.to(device)\n",
        "\n",
        "        ##Reading mask \n",
        "        mask = cv2.imread(y, cv2.IMREAD_GRAYSCALE)  ## (512, 512)\n",
        "        ## mask = cv2.resize(mask, size)\n",
        "        y = np.expand_dims(mask, axis=0)            ## (1, 512, 512)\n",
        "        y = y/255.0\n",
        "        y = np.expand_dims(y, axis=0)               ## (1, 1, 512, 512)\n",
        "        y = y.astype(np.float32)\n",
        "        y = torch.from_numpy(y)\n",
        "        y = y.to(device)\n",
        "\n",
        "        with torch.no_grad():\n",
        "            ##Prediction and Calculating FPS \n",
        "            start_time = time.time()\n",
        "            pred_y = model(x)\n",
        "            pred_y = torch.sigmoid(pred_y)\n",
        "            total_time = time.time() - start_time\n",
        "            time_taken.append(total_time)\n",
        "\n",
        "\n",
        "            score = calculate_metrics(y, pred_y, type=\"All\")\n",
        "            metrics_score = list(map(add, metrics_score, score))\n",
        "            pred_y = pred_y[0].cpu().numpy()        ## (1, 512, 512)\n",
        "            pred_y = np.squeeze(pred_y, axis=0)     ## (512, 512)\n",
        "            pred_y = pred_y > 0.5\n",
        "            pred_y = np.array(pred_y, dtype=np.uint8)\n",
        "\n",
        "        ##Saving masks \n",
        "        ori_mask = mask_parse(mask)\n",
        "        pred_y = mask_parse(pred_y)\n",
        "        line = np.ones((size[1], 10, 3)) * 128\n",
        "\n",
        "        cat_images = np.concatenate(\n",
        "            [image, line, ori_mask, line, pred_y * 255], axis=1\n",
        "        )\n",
        "        cv2.imwrite(f\"results/{name}.png\", cat_images)\n",
        "\n",
        "        #Calculate the metrics for each batch\n",
        "        jaccard = score[0]\n",
        "        precision = score[3]\n",
        "        recall= score[2]\n",
        "        f1 = score[1]\n",
        "        acc = score[4]\n",
        "\n",
        "        #Store in the list\n",
        "        jaccard_store.append(jaccard)\n",
        "        precision_store.append(precision)\n",
        "        f1_store.append(f1)\n",
        "        recall_store.append(f1)\n",
        "        acc_store.append(f1)\n",
        "        test_epoch_count.append(i)\n",
        "\n",
        "    jaccard = metrics_score[0]/len(test_x)\n",
        "    f1 = metrics_score[1]/len(test_x)\n",
        "    recall = metrics_score[2]/len(test_x)\n",
        "    precision = metrics_score[3]/len(test_x)\n",
        "    acc = metrics_score[4]/len(test_x)\n",
        "    print(f\"Jaccard: {jaccard:1.4f} - F1: {f1:1.4f} - Recall: {recall:1.4f} - Precision: {precision:1.4f} - Acc: {acc:1.4f}\")\n",
        "\n",
        "    fps = 1/np.mean(time_taken)\n",
        "    print(\"FPS: \", fps)"
      ],
      "metadata": {
        "id": "IBPnv4zVX8As",
        "colab": {
          "base_uri": "https://localhost:8080/"
        },
        "outputId": "5e229e31-c4e3-44fa-d961-8431a441fb3b"
      },
      "execution_count": 28,
      "outputs": [
        {
          "output_type": "stream",
          "name": "stderr",
          "text": [
            "100%|██████████| 20/20 [00:08<00:00,  2.49it/s]"
          ]
        },
        {
          "output_type": "stream",
          "name": "stdout",
          "text": [
            "Jaccard: 0.6670 - F1: 0.7995 - Recall: 0.7833 - Precision: 0.8245 - Acc: 0.9660\n",
            "FPS:  118.81695894256605\n"
          ]
        },
        {
          "output_type": "stream",
          "name": "stderr",
          "text": [
            "\n"
          ]
        }
      ]
    },
    {
      "cell_type": "code",
      "source": [
        "jaccard_store"
      ],
      "metadata": {
        "id": "Y48mp1WD-k5d",
        "outputId": "c1224ffa-4ae8-4daa-b1ee-a017b2b8e9bf",
        "colab": {
          "base_uri": "https://localhost:8080/"
        }
      },
      "execution_count": 29,
      "outputs": [
        {
          "output_type": "execute_result",
          "data": {
            "text/plain": [
              "[0.685857321652065,\n",
              " 0.7244338875692795,\n",
              " 0.5306328384027678,\n",
              " 0.7023635833090166,\n",
              " 0.6678374681110659,\n",
              " 0.6404935101982598,\n",
              " 0.6541126508717032,\n",
              " 0.6425558752808546,\n",
              " 0.6427445131046239,\n",
              " 0.671098944075088,\n",
              " 0.6589603676048248,\n",
              " 0.6836746238262247,\n",
              " 0.6734321704771875,\n",
              " 0.6772528335764785,\n",
              " 0.6509671263769624,\n",
              " 0.7084923144009594,\n",
              " 0.6410878295097611,\n",
              " 0.681120593976042,\n",
              " 0.7228960626982646,\n",
              " 0.6791038663171691]"
            ]
          },
          "metadata": {},
          "execution_count": 29
        }
      ]
    },
    {
      "cell_type": "code",
      "source": [
        "recall_store"
      ],
      "metadata": {
        "id": "WKxe-Sy--pt3",
        "outputId": "d5bb5fae-e265-49f2-9b47-2bd58809bdcb",
        "colab": {
          "base_uri": "https://localhost:8080/"
        }
      },
      "execution_count": 30,
      "outputs": [
        {
          "output_type": "execute_result",
          "data": {
            "text/plain": [
              "[0.8136599851521901,\n",
              " 0.8401990853826516,\n",
              " 0.6933509135430401,\n",
              " 0.8251628385327391,\n",
              " 0.8008423852804256,\n",
              " 0.7808546711298526,\n",
              " 0.7908925072630228,\n",
              " 0.7823854091672667,\n",
              " 0.7825252289412924,\n",
              " 0.8031827755675169,\n",
              " 0.7944256902968927,\n",
              " 0.8121220266093268,\n",
              " 0.8048514691637069,\n",
              " 0.807573932824836,\n",
              " 0.7885888410213303,\n",
              " 0.8293772332822869,\n",
              " 0.7812961841308298,\n",
              " 0.8103173519100304,\n",
              " 0.8391638687317231,\n",
              " 0.8088884552528234]"
            ]
          },
          "metadata": {},
          "execution_count": 30
        }
      ]
    },
    {
      "cell_type": "code",
      "source": [
        "import numpy as np\n",
        "import matplotlib.pyplot as plt\n",
        "def plot_items(x,y,xlabel,ylabel,label,title):\n",
        "  plt.plot(x, np.array(y), label=label)\n",
        "  plt.title(title)\n",
        "  plt.ylabel(ylabel)\n",
        "  plt.xlabel(xlabel)\n",
        "  plt.legend()"
      ],
      "metadata": {
        "id": "4s1Hl2kp-CvE"
      },
      "execution_count": 31,
      "outputs": []
    },
    {
      "cell_type": "code",
      "source": [
        "plot_items(np.array(epoch_count), np.array(loss_store),\"Epochs\",\"Loss\",\"Train Loss\",\"Training Loss\")"
      ],
      "metadata": {
        "id": "1r9r2XeiWdUz",
        "colab": {
          "base_uri": "https://localhost:8080/",
          "height": 295
        },
        "outputId": "c8383280-0327-456d-98c7-500ca1967639"
      },
      "execution_count": 32,
      "outputs": [
        {
          "output_type": "display_data",
          "data": {
            "text/plain": [
              "<Figure size 432x288 with 1 Axes>"
            ],
            "image/png": "[encoded data removed]"
          },
          "metadata": {
            "needs_background": "light"
          }
        }
      ]
    },
    {
      "cell_type": "code",
      "source": [
        "plot_items(np.array(epoch_count), np.array(val_loss_store),\"Epochs\",\"Loss\",\"Test Loss\",\"Testing Loss\")"
      ],
      "metadata": {
        "id": "Bo3kZK_QkQiE",
        "colab": {
          "base_uri": "https://localhost:8080/",
          "height": 295
        },
        "outputId": "7022e1fb-9162-4ff1-c771-c3ed418cb586"
      },
      "execution_count": 33,
      "outputs": [
        {
          "output_type": "display_data",
          "data": {
            "text/plain": [
              "<Figure size 432x288 with 1 Axes>"
            ],
            "image/png": "[encoded data removed]"
          },
          "metadata": {
            "needs_background": "light"
          }
        }
      ]
    },
    {
      "cell_type": "code",
      "source": [
        "plt.plot(epoch_count, np.array(loss_store), label=\"Train Loss\")\n",
        "plt.plot(epoch_count, np.array(val_loss_store), label = \"Test Loss\")\n",
        "plt.title(\"Train and test loss curves\")\n",
        "plt.ylabel(\"Loss\")\n",
        "plt.xlabel(\"Epoch\")\n",
        "plt.legend()"
      ],
      "metadata": {
        "colab": {
          "base_uri": "https://localhost:8080/",
          "height": 312
        },
        "id": "ivco7kwX7kBa",
        "outputId": "d51fd23b-de55-42dd-893c-1d93dae5d3bb"
      },
      "execution_count": 34,
      "outputs": [
        {
          "output_type": "execute_result",
          "data": {
            "text/plain": [
              "<matplotlib.legend.Legend at 0x7f16cca7b490>"
            ]
          },
          "metadata": {},
          "execution_count": 34
        },
        {
          "output_type": "display_data",
          "data": {
            "text/plain": [
              "<Figure size 432x288 with 1 Axes>"
            ],
            "image/png": "[encoded data removed]"
          },
          "metadata": {
            "needs_background": "light"
          }
        }
      ]
    },
    {
      "cell_type": "code",
      "source": [
        "np.array(acc_store).shape"
      ],
      "metadata": {
        "colab": {
          "base_uri": "https://localhost:8080/"
        },
        "id": "nAvMcryH8QDZ",
        "outputId": "dece2d90-50a4-49f0-ffef-b720111fecf7"
      },
      "execution_count": 35,
      "outputs": [
        {
          "output_type": "execute_result",
          "data": {
            "text/plain": [
              "(20,)"
            ]
          },
          "metadata": {},
          "execution_count": 35
        }
      ]
    },
    {
      "cell_type": "code",
      "source": [
        "plot_items(np.array(test_epoch_count), np.array(acc_store),\"Epochs\",\"Accuracy\",\"Test Acc\",\"Testing Accuracy\")"
      ],
      "metadata": {
        "colab": {
          "base_uri": "https://localhost:8080/",
          "height": 295
        },
        "id": "xpx12_lT78xM",
        "outputId": "670f9813-769f-4a8f-a85a-4413b5e94dc2"
      },
      "execution_count": 36,
      "outputs": [
        {
          "output_type": "display_data",
          "data": {
            "text/plain": [
              "<Figure size 432x288 with 1 Axes>"
            ],
            "image/png": "[encoded data removed]"
          },
          "metadata": {
            "needs_background": "light"
          }
        }
      ]
    },
    {
      "cell_type": "code",
      "source": [
        "plot_items(np.array(test_epoch_count), np.array(precision_store),\"Epochs\",\"Accuracy\",\"Test precision\",\"Testing Precision\")"
      ],
      "metadata": {
        "colab": {
          "base_uri": "https://localhost:8080/",
          "height": 295
        },
        "id": "SiKsu7Zw8KqY",
        "outputId": "49d38bef-622b-49ad-e20f-ce7053613345"
      },
      "execution_count": 37,
      "outputs": [
        {
          "output_type": "display_data",
          "data": {
            "text/plain": [
              "<Figure size 432x288 with 1 Axes>"
            ],
            "image/png": "[encoded data removed]"
          },
          "metadata": {
            "needs_background": "light"
          }
        }
      ]
    },
    {
      "cell_type": "code",
      "source": [
        "plot_items(np.array(test_epoch_count), np.array(jaccard_store),\"Epochs\",\"Accuracy\",\"Test jaccard\",\"Testing Jaccard\")"
      ],
      "metadata": {
        "colab": {
          "base_uri": "https://localhost:8080/",
          "height": 295
        },
        "id": "fHDMzePb9We_",
        "outputId": "1a8f4a97-53c0-40d5-aa19-a73770767181"
      },
      "execution_count": 38,
      "outputs": [
        {
          "output_type": "display_data",
          "data": {
            "text/plain": [
              "<Figure size 432x288 with 1 Axes>"
            ],
            "image/png": "[encoded data removed]"
          },
          "metadata": {
            "needs_background": "light"
          }
        }
      ]
    },
    {
      "cell_type": "code",
      "source": [
        "plot_items(np.array(test_epoch_count), np.array(f1_store),\"Epochs\",\"Accuracy\",\"Test F1\",\"Testing F1\")"
      ],
      "metadata": {
        "colab": {
          "base_uri": "https://localhost:8080/",
          "height": 295
        },
        "id": "9ErytsX99YUO",
        "outputId": "681d1877-2480-42de-ae64-69d4aba147f1"
      },
      "execution_count": 39,
      "outputs": [
        {
          "output_type": "display_data",
          "data": {
            "text/plain": [
              "<Figure size 432x288 with 1 Axes>"
            ],
            "image/png": "[encoded data removed]"
          },
          "metadata": {
            "needs_background": "light"
          }
        }
      ]
    },
    {
      "cell_type": "code",
      "source": [
        "plot_items(np.array(test_epoch_count), np.array(recall_store),\"Epochs\",\"Recall\",\"Recall\",\"Testing Recall\")"
      ],
      "metadata": {
        "colab": {
          "base_uri": "https://localhost:8080/",
          "height": 295
        },
        "id": "FaVvkVNk9Z-_",
        "outputId": "e9443f34-d484-42ca-8151-0031d0efcd88"
      },
      "execution_count": 40,
      "outputs": [
        {
          "output_type": "display_data",
          "data": {
            "text/plain": [
              "<Figure size 432x288 with 1 Axes>"
            ],
            "image/png": "[encoded data removed]"
          },
          "metadata": {
            "needs_background": "light"
          }
        }
      ]
    },
    {
      "cell_type": "code",
      "source": [
        "plot_items(np.array(test_epoch_count), np.array(recall_store),\"Epochs\",\"Recall\",\"Recall\",\"Recall vs Precision\")\n",
        "plot_items(np.array(test_epoch_count), np.array(precision_store),\"Epochs\",\"Precision\",\"Precision\",\"Recall vs Precision\")"
      ],
      "metadata": {
        "colab": {
          "base_uri": "https://localhost:8080/",
          "height": 295
        },
        "id": "CGhTvDDq9amI",
        "outputId": "3180cec7-b3e1-4725-b811-eb341a353cf6"
      },
      "execution_count": 41,
      "outputs": [
        {
          "output_type": "display_data",
          "data": {
            "text/plain": [
              "<Figure size 432x288 with 1 Axes>"
            ],
            "image/png": "[encoded data removed]"
          },
          "metadata": {
            "needs_background": "light"
          }
        }
      ]
    },
    {
      "cell_type": "code",
      "source": [
        "plot_items(np.array(test_epoch_count), np.array(jaccard_store),\"Epochs\",\"Jaccard\",\"Jaccard\",\"Jaccard vs F1\")\n",
        "plot_items(np.array(test_epoch_count), np.array(f1_store),\"Epochs\",\"F1\",\"F1\",\"Jaccard vs F1\")"
      ],
      "metadata": {
        "colab": {
          "base_uri": "https://localhost:8080/",
          "height": 295
        },
        "id": "1GPg_2HK9oJA",
        "outputId": "757e5a3a-75fc-4b00-e000-d9e347632d23"
      },
      "execution_count": 42,
      "outputs": [
        {
          "output_type": "display_data",
          "data": {
            "text/plain": [
              "<Figure size 432x288 with 1 Axes>"
            ],
            "image/png": "[encoded data removed]"
          },
          "metadata": {
            "needs_background": "light"
          }
        }
      ]
    },
    {
      "cell_type": "code",
      "source": [
        "plot_items(np.array(test_epoch_count), np.array(recall_store),\"Epochs\",\"Recall, Precision, Jaccard, F1\",\"Recall\",\"Recall vs Precision vs Jaccard vs F1\")\n",
        "plot_items(np.array(test_epoch_count), np.array(precision_store),\"Epochs\",\"Recall, Precision, Jaccard, F1\",\"Precision\",\"Recall vs Precision vs Jaccard vs F1\")\n",
        "plot_items(np.array(test_epoch_count), np.array(jaccard_store),\"Epochs\",\"Recall, Precision, Jaccard, F1\",\"Jaccard\",\"Recall vs Precision vs Jaccard vs F1\")\n",
        "plot_items(np.array(test_epoch_count), np.array(f1_store),\"Epochs\",\"Recall, Precision, Jaccard, F1\",\"F1\",\"Recall vs Precision vs Jaccard vs F1\")"
      ],
      "metadata": {
        "id": "m6yaWJoO_2Ur",
        "outputId": "0d9811bc-b84d-4686-d24f-601228292cb0",
        "colab": {
          "base_uri": "https://localhost:8080/",
          "height": 295
        }
      },
      "execution_count": 43,
      "outputs": [
        {
          "output_type": "display_data",
          "data": {
            "text/plain": [
              "<Figure size 432x288 with 1 Axes>"
            ],
            "image/png": "[encoded data removed]"
          },
          "metadata": {
            "needs_background": "light"
          }
        }
      ]
    },
    {
      "cell_type": "code",
      "source": [
        "import pandas as pd\n",
        "d1 = pd.Series(recall_store)\n",
        "d2 = pd.Series(precision_store)\n",
        "d3 = pd.Series(jaccard_store)\n",
        "d4 = pd.Series(f1_store)\n",
        "df = pd.DataFrame(d1, columns=['Recall'])\n",
        "df['Precision'] = d2\n",
        "df['Jaccard'] = d3\n",
        "df['F1'] = d4\n",
        "df.head()"
      ],
      "metadata": {
        "colab": {
          "base_uri": "https://localhost:8080/",
          "height": 206
        },
        "id": "tQd4pu5VvH3m",
        "outputId": "4b865c69-f2a1-4d71-eb78-4455e2ad2a64"
      },
      "execution_count": 44,
      "outputs": [
        {
          "output_type": "execute_result",
          "data": {
            "text/plain": [
              "     Recall  Precision   Jaccard        F1\n",
              "0  0.813660   0.783292  0.685857  0.813660\n",
              "1  0.840199   0.828768  0.724434  0.840199\n",
              "2  0.693351   0.894532  0.530633  0.693351\n",
              "3  0.825163   0.846827  0.702364  0.825163\n",
              "4  0.800842   0.877058  0.667837  0.800842"
            ],
            "text/html": [
              "\n",
              "  <div id=\"df-4c58b7ac-c549-4747-9e16-384542b2825a\">\n",
              "    <div class=\"colab-df-container\">\n",
              "      <div>\n",
              "<style scoped>\n",
              "    .dataframe tbody tr th:only-of-type {\n",
              "        vertical-align: middle;\n",
              "    }\n",
              "\n",
              "    .dataframe tbody tr th {\n",
              "        vertical-align: top;\n",
              "    }\n",
              "\n",
              "    .dataframe thead th {\n",
              "        text-align: right;\n",
              "    }\n",
              "</style>\n",
              "<table border=\"1\" class=\"dataframe\">\n",
              "  <thead>\n",
              "    <tr style=\"text-align: right;\">\n",
              "      <th></th>\n",
              "      <th>Recall</th>\n",
              "      <th>Precision</th>\n",
              "      <th>Jaccard</th>\n",
              "      <th>F1</th>\n",
              "    </tr>\n",
              "  </thead>\n",
              "  <tbody>\n",
              "    <tr>\n",
              "      <th>0</th>\n",
              "      <td>0.813660</td>\n",
              "      <td>0.783292</td>\n",
              "      <td>0.685857</td>\n",
              "      <td>0.813660</td>\n",
              "    </tr>\n",
              "    <tr>\n",
              "      <th>1</th>\n",
              "      <td>0.840199</td>\n",
              "      <td>0.828768</td>\n",
              "      <td>0.724434</td>\n",
              "      <td>0.840199</td>\n",
              "    </tr>\n",
              "    <tr>\n",
              "      <th>2</th>\n",
              "      <td>0.693351</td>\n",
              "      <td>0.894532</td>\n",
              "      <td>0.530633</td>\n",
              "      <td>0.693351</td>\n",
              "    </tr>\n",
              "    <tr>\n",
              "      <th>3</th>\n",
              "      <td>0.825163</td>\n",
              "      <td>0.846827</td>\n",
              "      <td>0.702364</td>\n",
              "      <td>0.825163</td>\n",
              "    </tr>\n",
              "    <tr>\n",
              "      <th>4</th>\n",
              "      <td>0.800842</td>\n",
              "      <td>0.877058</td>\n",
              "      <td>0.667837</td>\n",
              "      <td>0.800842</td>\n",
              "    </tr>\n",
              "  </tbody>\n",
              "</table>\n",
              "</div>\n",
              "      <button class=\"colab-df-convert\" onclick=\"convertToInteractive('df-4c58b7ac-c549-4747-9e16-384542b2825a')\"\n",
              "              title=\"Convert this dataframe to an interactive table.\"\n",
              "              style=\"display:none;\">\n",
              "        \n",
              "  <svg xmlns=\"http://www.w3.org/2000/svg\" height=\"24px\"viewBox=\"0 0 24 24\"\n",
              "       width=\"24px\">\n",
              "    <path d=\"M0 0h24v24H0V0z\" fill=\"none\"/>\n",
              "    <path d=\"M18.56 5.44l.94 2.06.94-2.06 2.06-.94-2.06-.94-.94-2.06-.94 2.06-2.06.94zm-11 1L8.5 8.5l.94-2.06 2.06-.94-2.06-.94L8.5 2.5l-.94 2.06-2.06.94zm10 10l.94 2.06.94-2.06 2.06-.94-2.06-.94-.94-2.06-.94 2.06-2.06.94z\"/><path d=\"M17.41 7.96l-1.37-1.37c-.4-.4-.92-.59-1.43-.59-.52 0-1.04.2-1.43.59L10.3 9.45l-7.72 7.72c-.78.78-.78 2.05 0 2.83L4 21.41c.39.39.9.59 1.41.59.51 0 1.02-.2 1.41-.59l7.78-7.78 2.81-2.81c.8-.78.8-2.07 0-2.86zM5.41 20L4 18.59l7.72-7.72 1.47 1.35L5.41 20z\"/>\n",
              "  </svg>\n",
              "      </button>\n",
              "      \n",
              "  <style>\n",
              "    .colab-df-container {\n",
              "      display:flex;\n",
              "      flex-wrap:wrap;\n",
              "      gap: 12px;\n",
              "    }\n",
              "\n",
              "    .colab-df-convert {\n",
              "      background-color: #E8F0FE;\n",
              "      border: none;\n",
              "      border-radius: 50%;\n",
              "      cursor: pointer;\n",
              "      display: none;\n",
              "      fill: #1967D2;\n",
              "      height: 32px;\n",
              "      padding: 0 0 0 0;\n",
              "      width: 32px;\n",
              "    }\n",
              "\n",
              "    .colab-df-convert:hover {\n",
              "      background-color: #E2EBFA;\n",
              "      box-shadow: 0px 1px 2px rgba(60, 64, 67, 0.3), 0px 1px 3px 1px rgba(60, 64, 67, 0.15);\n",
              "      fill: #174EA6;\n",
              "    }\n",
              "\n",
              "    [theme=dark] .colab-df-convert {\n",
              "      background-color: #3B4455;\n",
              "      fill: #D2E3FC;\n",
              "    }\n",
              "\n",
              "    [theme=dark] .colab-df-convert:hover {\n",
              "      background-color: #434B5C;\n",
              "      box-shadow: 0px 1px 3px 1px rgba(0, 0, 0, 0.15);\n",
              "      filter: drop-shadow(0px 1px 2px rgba(0, 0, 0, 0.3));\n",
              "      fill: #FFFFFF;\n",
              "    }\n",
              "  </style>\n",
              "\n",
              "      <script>\n",
              "        const buttonEl =\n",
              "          document.querySelector('#df-4c58b7ac-c549-4747-9e16-384542b2825a button.colab-df-convert');\n",
              "        buttonEl.style.display =\n",
              "          google.colab.kernel.accessAllowed ? 'block' : 'none';\n",
              "\n",
              "        async function convertToInteractive(key) {\n",
              "          const element = document.querySelector('#df-4c58b7ac-c549-4747-9e16-384542b2825a');\n",
              "          const dataTable =\n",
              "            await google.colab.kernel.invokeFunction('convertToInteractive',\n",
              "                                                     [key], {});\n",
              "          if (!dataTable) return;\n",
              "\n",
              "          const docLinkHtml = 'Like what you see? Visit the ' +\n",
              "            '<a target=\"_blank\" href=https://colab.research.google.com/notebooks/data_table.ipynb>data table notebook</a>'\n",
              "            + ' to learn more about interactive tables.';\n",
              "          element.innerHTML = '';\n",
              "          dataTable['output_type'] = 'display_data';\n",
              "          await google.colab.output.renderOutput(dataTable, element);\n",
              "          const docLink = document.createElement('div');\n",
              "          docLink.innerHTML = docLinkHtml;\n",
              "          element.appendChild(docLink);\n",
              "        }\n",
              "      </script>\n",
              "    </div>\n",
              "  </div>\n",
              "  "
            ]
          },
          "metadata": {},
          "execution_count": 44
        }
      ]
    },
    {
      "cell_type": "code",
      "source": [],
      "metadata": {
        "id": "cnq5wenEwCCi"
      },
      "execution_count": 44,
      "outputs": []
    }
  ]
}