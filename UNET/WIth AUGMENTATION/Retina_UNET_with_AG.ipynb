{
  "nbformat": 4,
  "nbformat_minor": 0,
  "metadata": {
    "colab": {
      "provenance": [],
      "machine_shape": "hm"
    },
    "kernelspec": {
      "name": "python3",
      "display_name": "Python 3"
    },
    "language_info": {
      "name": "python"
    },
    "accelerator": "GPU",
    "gpuClass": "standard"
  },
  "cells": [
    {
      "cell_type": "markdown",
      "source": [
        "**DATA IMPORT AND AUGMENTATION**"
      ],
      "metadata": {
        "id": "JUCsxc0svSXP"
      }
    },
    {
      "cell_type": "code",
      "source": [
        "from google.colab import drive\n",
        "drive.mount('/content/drive')"
      ],
      "metadata": {
        "colab": {
          "base_uri": "https://localhost:8080/"
        },
        "id": "-rFozLU-0e9d",
        "outputId": "414d5f53-8f99-4207-cbbc-4e5e7b20c2fb"
      },
      "execution_count": 1,
      "outputs": [
        {
          "output_type": "stream",
          "name": "stdout",
          "text": [
            "Mounted at /content/drive\n"
          ]
        }
      ]
    },
    {
      "cell_type": "code",
      "source": [
        "import torch\n",
        "print(torch.cuda.get_device_name(0))"
      ],
      "metadata": {
        "colab": {
          "base_uri": "https://localhost:8080/"
        },
        "id": "pcBjt_ub1kD2",
        "outputId": "88d178a1-9854-46cb-d708-aab8989497aa"
      },
      "execution_count": 2,
      "outputs": [
        {
          "output_type": "stream",
          "name": "stdout",
          "text": [
            "Tesla T4\n"
          ]
        }
      ]
    },
    {
      "cell_type": "code",
      "execution_count": 3,
      "metadata": {
        "id": "cgXKZZhXhCZI"
      },
      "outputs": [],
      "source": [
        "import os\n",
        "import numpy as np\n",
        "import cv2\n",
        "from glob import glob\n",
        "from tqdm import tqdm\n",
        "import imageio\n",
        "from albumentations import HorizontalFlip, VerticalFlip, Rotate"
      ]
    },
    {
      "cell_type": "code",
      "source": [
        "#Create new path to store augmented images\n",
        "def create_dir(path):\n",
        "  if not os.path.exists(path):\n",
        "    os.makedirs(path)"
      ],
      "metadata": {
        "id": "fAI6DT9yjUI7"
      },
      "execution_count": 4,
      "outputs": []
    },
    {
      "cell_type": "code",
      "source": [
        "def load_data(path):\n",
        "  train_x = sorted(glob(os.path.join(path, \"training\", \"images\", \"*.tif\")))\n",
        "  train_y = sorted(glob(os.path.join(path, \"training\", \"1st_manual\", \"*.gif\")))\n",
        "\n",
        "  test_x = sorted(glob(os.path.join(path, \"test\", \"images\", \"*.tif\")))\n",
        "  test_y = sorted(glob(os.path.join(path, \"test\", \"1st_manual\", \"*.gif\")))\n",
        "\n",
        "  return (train_x, train_y), (test_x,test_y)"
      ],
      "metadata": {
        "id": "G_hFgqm_huvM"
      },
      "execution_count": 5,
      "outputs": []
    },
    {
      "cell_type": "code",
      "source": [
        "def augment_data(images, masks, save_path, augment=True):\n",
        "  size=(512,512)\n",
        "\n",
        "  #Now we loop over image and mask\n",
        "  for idx, (x,y) in tqdm(enumerate(zip(images,masks)), total=len(images)):\n",
        "    #extracting name of the image\n",
        "    name = (x.split('/')[-1]).split(\".\")[0]\n",
        "\n",
        "    #Reading the image and mask\n",
        "    #for image we use cv2 and for the mask we use imageio\n",
        "\n",
        "    x = cv2.imread(x, cv2.IMREAD_COLOR)\n",
        "    y = imageio.mimread(y)[0]\n",
        "    if augment == True:\n",
        "      aug = HorizontalFlip(p=1.0)\n",
        "      augmented = aug(image=x, mask=y)\n",
        "      x1 = augmented[\"image\"]\n",
        "      y1 = augmented[\"mask\"]\n",
        "\n",
        "      aug = VerticalFlip(p=1.0)\n",
        "      augmented = aug(image=x, mask=y)\n",
        "      x2 = augmented[\"image\"]\n",
        "      y2 = augmented[\"mask\"]\n",
        "\n",
        "      aug = Rotate(limit=45, p=1.0)\n",
        "      augmented = aug(image=x, mask=y)\n",
        "      x3 = augmented[\"image\"]\n",
        "      y3 = augmented[\"mask\"]\n",
        "\n",
        "      X = [x, x1, x2, x3]\n",
        "      Y = [y, y1, y2, y3]\n",
        "\n",
        "    else:\n",
        "      X = [x]\n",
        "      Y = [y]\n",
        "\n",
        "    index = 0\n",
        "    for i, m in zip(X,Y):\n",
        "      i = cv2.resize(i, size)\n",
        "      m = cv2.resize(m, size)\n",
        "\n",
        "      tmp_image_name = f\"{name}_{index}.png\"\n",
        "      tmp_mask_name = f\"{name}_{index}.png\"\n",
        "\n",
        "      image_path = os.path.join(save_path, \"image\", tmp_image_name)\n",
        "      mask_path = os.path.join(save_path, \"mask\", tmp_mask_name)  \n",
        "\n",
        "      cv2.imwrite(image_path, i)\n",
        "      cv2.imwrite(mask_path, m)  \n",
        "\n",
        "      index+=1\n"
      ],
      "metadata": {
        "id": "QkOGle3_j3V3"
      },
      "execution_count": 6,
      "outputs": []
    },
    {
      "cell_type": "code",
      "source": [
        "if __name__ == \"main\":\n",
        "  np.random.seed(42)"
      ],
      "metadata": {
        "id": "4wRoqZ3RhPxg"
      },
      "execution_count": 7,
      "outputs": []
    },
    {
      "cell_type": "code",
      "source": [
        "##Load the data\n",
        "data_path = \"/content/drive/MyDrive/Retina Vessel Segmentation/DRIVE/\"\n",
        "(train_x, train_y), (test_x,test_y) = load_data(data_path)\n",
        "\n",
        "print(f\"Train: {len(train_x)} - {len(train_y)}\")\n",
        "print(f\"Test: {len(test_x)} - {len(test_y)}\")"
      ],
      "metadata": {
        "colab": {
          "base_uri": "https://localhost:8080/"
        },
        "id": "OvdawDMMhe4p",
        "outputId": "587e4e56-504b-4b1b-b3d8-9fa03d7e14ca"
      },
      "execution_count": 8,
      "outputs": [
        {
          "output_type": "stream",
          "name": "stdout",
          "text": [
            "Train: 20 - 20\n",
            "Test: 20 - 20\n"
          ]
        }
      ]
    },
    {
      "cell_type": "code",
      "source": [
        "#Now we create directories to save our augmented data\n",
        "create_dir(\"new_data/train/image/\")\n",
        "create_dir(\"new_data/train/mask/\")\n",
        "create_dir(\"new_data/test/image/\")\n",
        "create_dir(\"new_data/test/mask/\")"
      ],
      "metadata": {
        "id": "SuMxiru6hs2E"
      },
      "execution_count": 9,
      "outputs": []
    },
    {
      "cell_type": "code",
      "source": [
        "#Data augmentation\n",
        "augment_data(train_x,train_y,\"new_data/train/\",augment=True)"
      ],
      "metadata": {
        "colab": {
          "base_uri": "https://localhost:8080/"
        },
        "id": "fsLp_bzzjtfv",
        "outputId": "0eec80e2-52db-4ee7-b67c-9c1a476c21d7"
      },
      "execution_count": 10,
      "outputs": [
        {
          "output_type": "stream",
          "name": "stderr",
          "text": [
            "100%|██████████| 20/20 [00:42<00:00,  2.10s/it]\n"
          ]
        }
      ]
    },
    {
      "cell_type": "code",
      "source": [
        "augment_data(test_x,test_y,\"new_data/test/\",augment=False)"
      ],
      "metadata": {
        "colab": {
          "base_uri": "https://localhost:8080/"
        },
        "id": "EETwUiuFkgAB",
        "outputId": "5dc128a3-273c-4059-91a4-31bda1f11c16"
      },
      "execution_count": 11,
      "outputs": [
        {
          "output_type": "stream",
          "name": "stderr",
          "text": [
            "100%|██████████| 20/20 [00:40<00:00,  2.01s/it]\n"
          ]
        }
      ]
    },
    {
      "cell_type": "markdown",
      "source": [
        "**CREATING U-NET ARCHITECTURE**"
      ],
      "metadata": {
        "id": "rRKDYW9XvaSA"
      }
    },
    {
      "cell_type": "code",
      "source": [
        "import torch\n",
        "import torch.nn as nn"
      ],
      "metadata": {
        "id": "gFJWt19dvII0"
      },
      "execution_count": 12,
      "outputs": []
    },
    {
      "cell_type": "code",
      "source": [
        "class conv_block(nn.Module):\n",
        "  def __init__(self, in_c, out_c):\n",
        "    super().__init__()\n",
        "\n",
        "    self.conv1 = nn.Conv2d(in_c,out_c,kernel_size=3,padding=1)\n",
        "    self.bn1 = nn.BatchNorm2d(out_c)\n",
        "\n",
        "    self.conv2 = nn.Conv2d(out_c,out_c,kernel_size=3,padding=1)\n",
        "    self.bn2 = nn.BatchNorm2d(out_c)\n",
        "\n",
        "    self.relu = nn.ReLU()\n",
        "\n",
        "  def forward(self, inputs):\n",
        "    x = self.conv1(inputs)\n",
        "    x = self.bn1(x)\n",
        "    x = self.relu(x)\n",
        "\n",
        "    x = self.conv2(x)\n",
        "    x = self.bn2(x)\n",
        "    x = self.relu(x)\n",
        "\n",
        "    return x\n",
        "\n",
        "\n",
        "class encoder_block(nn.Module):\n",
        "  def __init__(self, in_c,out_c):\n",
        "    super().__init__()\n",
        "\n",
        "    self.conv = conv_block(in_c, out_c)\n",
        "    self.pool = nn.MaxPool2d((2,2))\n",
        "\n",
        "  def forward(self, inputs):\n",
        "    x = self.conv(inputs)\n",
        "    p = self.pool(x)\n",
        "\n",
        "    return x,p\n",
        "\n",
        "class decoder_block(nn.Module):\n",
        "  def __init__(self, in_c, out_c):\n",
        "    super().__init__()\n",
        "\n",
        "    self.up = nn.ConvTranspose2d(in_c, out_c, kernel_size=2, stride=2, padding=0)\n",
        "    #Number of input channels will be outputchannles*2\n",
        "    self.conv = conv_block(out_c+out_c, out_c)\n",
        "\n",
        "  def forward(self, inputs, skip):\n",
        "    x = self.up(inputs)\n",
        "    x = torch.cat([x, skip], axis=1)\n",
        "    x = self.conv(x)\n",
        "    return x\n",
        "   \n",
        "\n",
        "\n",
        "class build_unet(nn.Module):\n",
        "    def __init__(self):\n",
        "        super().__init__()\n",
        "\n",
        "        ##Encoder \n",
        "        self.e1 = encoder_block(3, 64)\n",
        "        self.e2 = encoder_block(64, 128)\n",
        "        self.e3 = encoder_block(128, 256)\n",
        "        self.e4 = encoder_block(256, 512)\n",
        "\n",
        "        ##Bottleneck\n",
        "        self.b = conv_block(512, 1024)  \n",
        "\n",
        "        ##Decoder\n",
        "        self.d1 = decoder_block(1024, 512)\n",
        "        self.d2 = decoder_block(512, 256)\n",
        "        self.d3 = decoder_block(256, 128)\n",
        "        self.d4 = decoder_block(128, 64)\n",
        "\n",
        "\n",
        "        ##Classifier \n",
        "        #To generate the final segmentation\n",
        "        self.outputs = nn.Conv2d(64,1, kernel_size=1, padding=0)\n",
        "\n",
        "    \n",
        "    def forward(self, inputs):\n",
        "        ##Encoder \n",
        "        #The output from the encoder layer acts as a skip connection for the decoder layer\n",
        "        #s1 stands for skip connections\n",
        "        #p1 stands for pooling output\n",
        "\n",
        "        s1, p1 = self.e1(inputs)\n",
        "        s2, p2 = self.e2(p1)\n",
        "        s3, p3 = self.e3(p2)\n",
        "        s4, p4 = self.e4(p3)\n",
        "\n",
        "        #Bottleneck\n",
        "        b = self.b(p4)\n",
        "        #print(s1.shape, s2.shape, s3.shape, s4.shape)\n",
        "        #print(b.shape)\n",
        "\n",
        "        ##Decoder\n",
        "        d1 = self.d1(b, s4)\n",
        "        d2 = self.d2(d1, s3)\n",
        "        d3 = self.d3(d2, s2)\n",
        "        d4 = self.d4(d3, s1)\n",
        "\n",
        "        #Classifier\n",
        "        outputs = self.outputs(d4)\n",
        "        return outputs\n",
        "\n",
        "\n",
        "\n",
        "if __name__ == \"__main__\":\n",
        "  x = torch.randn((2,3,512,512))\n",
        "  f = build_unet()\n",
        "  y=f(x)\n",
        "  print(y.shape)"
      ],
      "metadata": {
        "colab": {
          "base_uri": "https://localhost:8080/"
        },
        "id": "envlmumbvjAO",
        "outputId": "ec1cddb7-feab-46a1-d0b7-954f14318f99"
      },
      "execution_count": 13,
      "outputs": [
        {
          "output_type": "stream",
          "name": "stdout",
          "text": [
            "torch.Size([2, 1, 512, 512])\n"
          ]
        }
      ]
    },
    {
      "cell_type": "markdown",
      "source": [
        "**LOSS**"
      ],
      "metadata": {
        "id": "a1aAVuSL6HBg"
      }
    },
    {
      "cell_type": "code",
      "source": [
        "import torch.nn.functional as F\n",
        "\n",
        "class DiceLoss(nn.Module):\n",
        "    def __init__(self, weight=None, size_average=True):\n",
        "        super(DiceLoss, self).__init__()\n",
        "\n",
        "    def forward(self, inputs, targets, smooth=1):\n",
        "\n",
        "        #comment out if your model contains a sigmoid or equivalent activation layer\n",
        "        inputs = torch.sigmoid(inputs)\n",
        "\n",
        "        #flatten label and prediction tensors\n",
        "        inputs = inputs.view(-1)\n",
        "        targets = targets.view(-1)\n",
        "\n",
        "        intersection = (inputs * targets).sum()\n",
        "        dice = (2.*intersection + smooth)/(inputs.sum() + targets.sum() + smooth)\n",
        "\n",
        "        return 1 - dice"
      ],
      "metadata": {
        "id": "rEKJ3S4U6LEG"
      },
      "execution_count": 14,
      "outputs": []
    },
    {
      "cell_type": "code",
      "source": [
        "class DiceBCELoss(nn.Module):\n",
        "    def __init__(self, weight=None, size_average=True):\n",
        "        super(DiceBCELoss, self).__init__()\n",
        "\n",
        "    def forward(self, inputs, targets, smooth=1):\n",
        "\n",
        "        #comment out if your model contains a sigmoid or equivalent activation layer\n",
        "        inputs = torch.sigmoid(inputs)\n",
        "\n",
        "        #flatten label and prediction tensors\n",
        "        inputs = inputs.view(-1)\n",
        "        targets = targets.view(-1)\n",
        "\n",
        "        intersection = (inputs * targets).sum()\n",
        "        dice_loss = 1 - (2.*intersection + smooth)/(inputs.sum() + targets.sum() + smooth)\n",
        "        BCE = F.binary_cross_entropy(inputs, targets, reduction='mean')\n",
        "        Dice_BCE = BCE + dice_loss\n",
        "\n",
        "        return Dice_BCE"
      ],
      "metadata": {
        "id": "nzNm_HP46Qb_"
      },
      "execution_count": 15,
      "outputs": []
    },
    {
      "cell_type": "markdown",
      "source": [
        "**UTILS**"
      ],
      "metadata": {
        "id": "kjhp7D2n6WmY"
      }
    },
    {
      "cell_type": "code",
      "source": [
        "import os\n",
        "import time\n",
        "import random\n",
        "import numpy as np\n",
        "import cv2\n",
        "import torch\n",
        "\n",
        "##Seeding the randomness\n",
        "def seeding(seed):\n",
        "    random.seed(seed)\n",
        "    os.environ[\"PYTHONHASHSEED\"] = str(seed)\n",
        "    np.random.seed(seed)\n",
        "    torch.manual_seed(seed)\n",
        "    torch.cuda.manual_seed(seed)\n",
        "    torch.backends.cudnn.deterministic = True\n",
        "\n",
        "##Create a directory\n",
        "def create_dir(path):\n",
        "    if not os.path.exists(path):\n",
        "        os.makedirs(path)\n",
        "\n",
        "##Calculate the time taken\n",
        "def epoch_time(start_time, end_time):\n",
        "    elapsed_time = end_time - start_time\n",
        "    elapsed_mins = int(elapsed_time / 60)\n",
        "    elapsed_secs = int(elapsed_time - (elapsed_mins * 60))\n",
        "    return elapsed_mins, elapsed_secs"
      ],
      "metadata": {
        "id": "jLpG3hzv6Zp_"
      },
      "execution_count": 16,
      "outputs": []
    },
    {
      "cell_type": "markdown",
      "source": [
        "**TRAINING**"
      ],
      "metadata": {
        "id": "EufHoK3H5sQ4"
      }
    },
    {
      "cell_type": "code",
      "source": [
        "import os\n",
        "import time\n",
        "from glob import glob\n",
        "\n",
        "from torch.utils.data import DataLoader"
      ],
      "metadata": {
        "id": "ml__ECvtwLWW"
      },
      "execution_count": 17,
      "outputs": []
    },
    {
      "cell_type": "code",
      "source": [
        "if __name__ == \"__main__\":\n",
        "  #Seeding\n",
        "  seeding(42)\n",
        "\n",
        "  #Saving the checkpoints and other files\n",
        "  create_dir(\"files\")\n",
        "\n",
        "  #load the dataset\n",
        "  train_x = sorted(glob(\"/content/new_data/train/image/*\"))\n",
        "  train_y = sorted(glob(\"/content/new_data/train/mask/*\"))\n",
        "\n",
        "  valid_x = sorted(glob(\"/content/new_data/test/image/*\"))\n",
        "  valid_y = sorted(glob(\"/content/new_data/test/mask/*\"))\n",
        "\n",
        "  data_str = f\"Dataset Size:\\nTrain: {len(train_x)} - Valid:{len(test_x)}\"\n",
        "  print(data_str)"
      ],
      "metadata": {
        "colab": {
          "base_uri": "https://localhost:8080/"
        },
        "id": "Byp6vkmN58Zl",
        "outputId": "dc58b0aa-71a6-452d-9502-2933584ad222"
      },
      "execution_count": 18,
      "outputs": [
        {
          "output_type": "stream",
          "name": "stdout",
          "text": [
            "Dataset Size:\n",
            "Train: 80 - Valid:20\n"
          ]
        }
      ]
    },
    {
      "cell_type": "code",
      "source": [
        "##Hyperparameters\n",
        "H = 512\n",
        "W = 512\n",
        "size = (H,W)\n",
        "batch_size = 2\n",
        "num_epochs = 50\n",
        "lr = 3e-4\n",
        "checkpoint_path = \"files/checkpoint.pth\"\n",
        "device = \"cuda\" if torch.cuda.is_available() else \"cpu\"\n",
        "print(device)"
      ],
      "metadata": {
        "colab": {
          "base_uri": "https://localhost:8080/"
        },
        "id": "fo_nVyCK7Yll",
        "outputId": "1360dc4e-2513-45dd-a0f8-e862397be336"
      },
      "execution_count": 19,
      "outputs": [
        {
          "output_type": "stream",
          "name": "stdout",
          "text": [
            "cuda\n"
          ]
        }
      ]
    },
    {
      "cell_type": "markdown",
      "source": [
        "**DATASET AND LOADER**"
      ],
      "metadata": {
        "id": "-JM99Ucx9OR6"
      }
    },
    {
      "cell_type": "code",
      "source": [
        "import os \n",
        "import numpy as np\n",
        "import cv2\n",
        "import torch\n",
        "from torch.utils.data import Dataset"
      ],
      "metadata": {
        "id": "BOSg1eWh8Xx8"
      },
      "execution_count": 20,
      "outputs": []
    },
    {
      "cell_type": "code",
      "source": [
        "class DriveDataset(Dataset):\n",
        "  def __init__(self, images_path, masks_path):\n",
        "    self.images_path = images_path\n",
        "    self.masks_path = masks_path\n",
        "    self.n_samples = len(images_path)\n",
        "\n",
        "  def __getitem__(self, index):\n",
        "    #Reading the image\n",
        "    #Read the image in RGB format\n",
        "    image = cv2.imread(self.images_path[index], cv2.IMREAD_COLOR)\n",
        "    #Normalize the image by dividing with 255\n",
        "    image = image/255.0\n",
        "    #Transpose the image since it had channel last approach and for pytorch we need channel first\n",
        "    image = np.transpose(image, (2,0,1))\n",
        "    #Then we convert it into float32\n",
        "    image = image.astype(np.float32)\n",
        "    #Then we convert it to a torch tensor\n",
        "    image = torch.from_numpy(image)\n",
        "\n",
        "    #Reading the mask\n",
        "    #We do not need transpose for mask\n",
        "    mask = cv2.imread(self.masks_path[index], cv2.IMREAD_GRAYSCALE)\n",
        "    mask = mask/255.0\n",
        "    mask = np.expand_dims(mask, axis=0)##(1,512,512)\n",
        "    mask = mask.astype(np.float32)\n",
        "    mask = torch.from_numpy(mask)\n",
        "\n",
        "    return image, mask\n",
        "\n",
        "  def __len__(self):\n",
        "    return self.n_samples\n"
      ],
      "metadata": {
        "id": "sGoOgIyp9N1Q"
      },
      "execution_count": 21,
      "outputs": []
    },
    {
      "cell_type": "code",
      "source": [
        "train_dataset = DriveDataset(train_x, train_y)\n",
        "valid_dataset = DriveDataset(valid_x, valid_y)\n",
        "\n",
        "train_loader = DataLoader(\n",
        "    dataset = train_dataset,\n",
        "    batch_size = batch_size,\n",
        "    shuffle = True,\n",
        "    num_workers=2\n",
        ")\n",
        "\n",
        "valid_loader = DataLoader(\n",
        "    dataset = valid_dataset,\n",
        "    batch_size = batch_size,\n",
        "    shuffle = False,\n",
        "    num_workers=2\n",
        ")"
      ],
      "metadata": {
        "id": "pAbCdie7-xVC"
      },
      "execution_count": 22,
      "outputs": []
    },
    {
      "cell_type": "code",
      "source": [
        "##Initialising the model\n",
        "model = build_unet()\n",
        "model = model.to(device=device)\n",
        "\n",
        "optimizer = torch.optim.Adam(model.parameters(), lr=lr)\n",
        "scheduler = torch.optim.lr_scheduler.ReduceLROnPlateau(optimizer,'min', patience=5, verbose=True)\n",
        "loss_fn = DiceBCELoss()"
      ],
      "metadata": {
        "id": "18OXX0zo_alM"
      },
      "execution_count": 23,
      "outputs": []
    },
    {
      "cell_type": "code",
      "source": [
        "import os, time\n",
        "from operator import add\n",
        "import numpy as np\n",
        "from glob import glob\n",
        "import cv2\n",
        "from tqdm import tqdm\n",
        "import imageio\n",
        "import torch\n",
        "from sklearn.metrics import accuracy_score, f1_score, jaccard_score, precision_score, recall_score\n",
        "\n",
        "def calculate_metrics(y_true, y_pred, type=\"All\"):\n",
        "    ##Ground truth\n",
        "    y_true = y_true.cpu().detach().numpy()\n",
        "    y_true = y_true > 0.5\n",
        "    y_true = y_true.astype(np.uint8)\n",
        "    y_true = y_true.reshape(-1)\n",
        "\n",
        "    ##Prediction \n",
        "    y_pred = y_pred.cpu().detach().numpy()\n",
        "    y_pred = y_pred > 0.5\n",
        "    y_pred = y_pred.astype(np.uint8)\n",
        "    y_pred = y_pred.reshape(-1)\n",
        "\n",
        "    score_jaccard = jaccard_score(y_true, y_pred)\n",
        "    score_f1 = f1_score(y_true, y_pred)\n",
        "    score_recall = recall_score(y_true, y_pred)\n",
        "    score_precision = precision_score(y_true, y_pred)\n",
        "    score_acc = accuracy_score(y_true, y_pred)\n",
        "\n",
        "    if type == \"Jaccard\":\n",
        "      return score_jaccard\n",
        "    elif type == \"F1\":\n",
        "      return score_f1\n",
        "    elif type == \"Recall\":\n",
        "      return score_recall\n",
        "    elif type == \"Precision\":\n",
        "      return score_precision\n",
        "    elif type == \"Accuracy\":\n",
        "      return score_acc\n",
        "    else:\n",
        "      return [score_jaccard,score_f1,score_recall,score_precision,score_acc]"
      ],
      "metadata": {
        "id": "CHP7wf0_23N9"
      },
      "execution_count": 24,
      "outputs": []
    },
    {
      "cell_type": "code",
      "source": [
        "##Specify the training function\n",
        "\n",
        "def train(model, loader, optimizer, loss_fn, device):\n",
        "  epoch_loss = 0.0\n",
        "  model.train()\n",
        "  for x,y in tqdm(loader):\n",
        "    x = x.to(device, dtype=torch.float32)\n",
        "    y = y.to(device, dtype=torch.float32)\n",
        "\n",
        "    #Optimizer put to zero grad\n",
        "    optimizer.zero_grad()\n",
        "    #Making a prediction\n",
        "    y_pred = model(x)\n",
        "    #Calculating loss\n",
        "    loss = loss_fn(y_pred, y)\n",
        "    #Backward step\n",
        "    loss.backward()\n",
        "    #Optimizer step\n",
        "    optimizer.step()\n",
        "    #Getting the loss for that epoch\n",
        "    epoch_loss+=loss.item()\n",
        "    \n",
        "\n",
        "  #Calculating mean loss\n",
        "  epoch_loss = epoch_loss/len(loader)\n",
        "\n",
        "  return epoch_loss"
      ],
      "metadata": {
        "id": "Ad4jPzt6ACkY"
      },
      "execution_count": 25,
      "outputs": []
    },
    {
      "cell_type": "code",
      "source": [
        "##Specify the evaluate function\n",
        "def evaluate(model, loader, loss_fn, device):\n",
        "  epoch_loss = 0.0\n",
        "  model.eval()\n",
        "  with torch.no_grad():\n",
        "    for x,y in tqdm(loader):\n",
        "      x = x.to(device, dtype=torch.float32)\n",
        "      y = y.to(device, dtype=torch.float32)\n",
        "\n",
        "      y_pred = model(x)\n",
        "      loss = loss_fn(y_pred,y)\n",
        "\n",
        "      epoch_loss+=loss.item()\n",
        "\n",
        "  #Calculating mean loss\n",
        "  epoch_loss = epoch_loss/len(loader)\n",
        "  return epoch_loss"
      ],
      "metadata": {
        "id": "QP8uT9RJCTPv"
      },
      "execution_count": 26,
      "outputs": []
    },
    {
      "cell_type": "code",
      "source": [
        "##Training the model\n",
        "best_valid_loss = float(\"inf\")\n",
        "loss_store = []\n",
        "val_loss_store = []\n",
        "epoch_count = []\n",
        "\n",
        "for epoch in range(num_epochs):\n",
        "  start_time = time.time()\n",
        "  train_loss = train(model, train_loader, optimizer, loss_fn, device)\n",
        "  loss_store.append(train_loss)\n",
        "  valid_loss = evaluate(model, valid_loader, loss_fn, device)\n",
        "  val_loss_store.append(valid_loss)\n",
        "\n",
        "  #Saving the model\n",
        "  if valid_loss < best_valid_loss:\n",
        "    data_str = f\"Valid loss improved from {best_valid_loss:2.4f} to {valid_loss:4f}\"\n",
        "    print(data_str)\n",
        "\n",
        "    best_valid_loss = valid_loss\n",
        "    torch.save(model.state_dict(), checkpoint_path)\n",
        "\n",
        "  end_time = time.time()\n",
        "  epoch_mins, epoch_secs = epoch_time(start_time, end_time)\n",
        "\n",
        "  #Storing values\n",
        "  epoch_count.append(epoch)\n",
        "\n",
        "\n",
        "  data_str = f'Epoch: {epoch+1:02} | Epoch Time: {epoch_mins}m {epoch_secs}s\\n'\n",
        "  data_str += f'\\tTrain Loss: {train_loss:.3f}\\n'\n",
        "  data_str += f'\\t Val. Loss: {valid_loss:.3f}\\n'\n",
        "  print(data_str)"
      ],
      "metadata": {
        "colab": {
          "base_uri": "https://localhost:8080/"
        },
        "id": "8H_qe5u1_c0o",
        "outputId": "a4a06f95-1e69-42a2-e15c-3e93e4b4365a"
      },
      "execution_count": 27,
      "outputs": [
        {
          "output_type": "stream",
          "name": "stderr",
          "text": [
            "100%|██████████| 40/40 [00:35<00:00,  1.14it/s]\n",
            "100%|██████████| 10/10 [00:02<00:00,  3.52it/s]\n"
          ]
        },
        {
          "output_type": "stream",
          "name": "stdout",
          "text": [
            "Valid loss improved from inf to 1.287871\n",
            "Epoch: 01 | Epoch Time: 0m 38s\n",
            "\tTrain Loss: 1.079\n",
            "\t Val. Loss: 1.288\n",
            "\n"
          ]
        },
        {
          "output_type": "stream",
          "name": "stderr",
          "text": [
            "100%|██████████| 40/40 [00:29<00:00,  1.35it/s]\n",
            "100%|██████████| 10/10 [00:02<00:00,  3.47it/s]\n"
          ]
        },
        {
          "output_type": "stream",
          "name": "stdout",
          "text": [
            "Valid loss improved from 1.2879 to 0.876173\n",
            "Epoch: 02 | Epoch Time: 0m 32s\n",
            "\tTrain Loss: 0.873\n",
            "\t Val. Loss: 0.876\n",
            "\n"
          ]
        },
        {
          "output_type": "stream",
          "name": "stderr",
          "text": [
            "100%|██████████| 40/40 [00:30<00:00,  1.32it/s]\n",
            "100%|██████████| 10/10 [00:03<00:00,  3.33it/s]\n"
          ]
        },
        {
          "output_type": "stream",
          "name": "stdout",
          "text": [
            "Valid loss improved from 0.8762 to 0.724099\n",
            "Epoch: 03 | Epoch Time: 0m 33s\n",
            "\tTrain Loss: 0.767\n",
            "\t Val. Loss: 0.724\n",
            "\n"
          ]
        },
        {
          "output_type": "stream",
          "name": "stderr",
          "text": [
            "100%|██████████| 40/40 [00:29<00:00,  1.34it/s]\n",
            "100%|██████████| 10/10 [00:02<00:00,  3.51it/s]\n"
          ]
        },
        {
          "output_type": "stream",
          "name": "stdout",
          "text": [
            "Valid loss improved from 0.7241 to 0.645071\n",
            "Epoch: 04 | Epoch Time: 0m 32s\n",
            "\tTrain Loss: 0.676\n",
            "\t Val. Loss: 0.645\n",
            "\n"
          ]
        },
        {
          "output_type": "stream",
          "name": "stderr",
          "text": [
            "100%|██████████| 40/40 [00:29<00:00,  1.34it/s]\n",
            "100%|██████████| 10/10 [00:02<00:00,  3.37it/s]\n"
          ]
        },
        {
          "output_type": "stream",
          "name": "stdout",
          "text": [
            "Valid loss improved from 0.6451 to 0.578323\n",
            "Epoch: 05 | Epoch Time: 0m 33s\n",
            "\tTrain Loss: 0.600\n",
            "\t Val. Loss: 0.578\n",
            "\n"
          ]
        },
        {
          "output_type": "stream",
          "name": "stderr",
          "text": [
            "100%|██████████| 40/40 [00:30<00:00,  1.33it/s]\n",
            "100%|██████████| 10/10 [00:02<00:00,  3.47it/s]\n"
          ]
        },
        {
          "output_type": "stream",
          "name": "stdout",
          "text": [
            "Valid loss improved from 0.5783 to 0.540652\n",
            "Epoch: 06 | Epoch Time: 0m 33s\n",
            "\tTrain Loss: 0.543\n",
            "\t Val. Loss: 0.541\n",
            "\n"
          ]
        },
        {
          "output_type": "stream",
          "name": "stderr",
          "text": [
            "100%|██████████| 40/40 [00:29<00:00,  1.34it/s]\n",
            "100%|██████████| 10/10 [00:03<00:00,  3.31it/s]\n"
          ]
        },
        {
          "output_type": "stream",
          "name": "stdout",
          "text": [
            "Valid loss improved from 0.5407 to 0.484994\n",
            "Epoch: 07 | Epoch Time: 0m 33s\n",
            "\tTrain Loss: 0.498\n",
            "\t Val. Loss: 0.485\n",
            "\n"
          ]
        },
        {
          "output_type": "stream",
          "name": "stderr",
          "text": [
            "100%|██████████| 40/40 [00:29<00:00,  1.34it/s]\n",
            "100%|██████████| 10/10 [00:02<00:00,  3.46it/s]\n"
          ]
        },
        {
          "output_type": "stream",
          "name": "stdout",
          "text": [
            "Valid loss improved from 0.4850 to 0.459017\n",
            "Epoch: 08 | Epoch Time: 0m 33s\n",
            "\tTrain Loss: 0.465\n",
            "\t Val. Loss: 0.459\n",
            "\n"
          ]
        },
        {
          "output_type": "stream",
          "name": "stderr",
          "text": [
            "100%|██████████| 40/40 [00:29<00:00,  1.34it/s]\n",
            "100%|██████████| 10/10 [00:02<00:00,  3.37it/s]\n"
          ]
        },
        {
          "output_type": "stream",
          "name": "stdout",
          "text": [
            "Valid loss improved from 0.4590 to 0.428606\n",
            "Epoch: 09 | Epoch Time: 0m 33s\n",
            "\tTrain Loss: 0.441\n",
            "\t Val. Loss: 0.429\n",
            "\n"
          ]
        },
        {
          "output_type": "stream",
          "name": "stderr",
          "text": [
            "100%|██████████| 40/40 [00:29<00:00,  1.34it/s]\n",
            "100%|██████████| 10/10 [00:02<00:00,  3.51it/s]\n"
          ]
        },
        {
          "output_type": "stream",
          "name": "stdout",
          "text": [
            "Valid loss improved from 0.4286 to 0.413538\n",
            "Epoch: 10 | Epoch Time: 0m 33s\n",
            "\tTrain Loss: 0.420\n",
            "\t Val. Loss: 0.414\n",
            "\n"
          ]
        },
        {
          "output_type": "stream",
          "name": "stderr",
          "text": [
            "100%|██████████| 40/40 [00:29<00:00,  1.34it/s]\n",
            "100%|██████████| 10/10 [00:02<00:00,  3.39it/s]\n"
          ]
        },
        {
          "output_type": "stream",
          "name": "stdout",
          "text": [
            "Valid loss improved from 0.4135 to 0.395296\n",
            "Epoch: 11 | Epoch Time: 0m 33s\n",
            "\tTrain Loss: 0.406\n",
            "\t Val. Loss: 0.395\n",
            "\n"
          ]
        },
        {
          "output_type": "stream",
          "name": "stderr",
          "text": [
            "100%|██████████| 40/40 [00:30<00:00,  1.33it/s]\n",
            "100%|██████████| 10/10 [00:02<00:00,  3.48it/s]\n"
          ]
        },
        {
          "output_type": "stream",
          "name": "stdout",
          "text": [
            "Epoch: 12 | Epoch Time: 0m 32s\n",
            "\tTrain Loss: 0.396\n",
            "\t Val. Loss: 0.396\n",
            "\n"
          ]
        },
        {
          "output_type": "stream",
          "name": "stderr",
          "text": [
            "100%|██████████| 40/40 [00:29<00:00,  1.34it/s]\n",
            "100%|██████████| 10/10 [00:02<00:00,  3.42it/s]\n"
          ]
        },
        {
          "output_type": "stream",
          "name": "stdout",
          "text": [
            "Valid loss improved from 0.3953 to 0.382390\n",
            "Epoch: 13 | Epoch Time: 0m 33s\n",
            "\tTrain Loss: 0.385\n",
            "\t Val. Loss: 0.382\n",
            "\n"
          ]
        },
        {
          "output_type": "stream",
          "name": "stderr",
          "text": [
            "100%|██████████| 40/40 [00:30<00:00,  1.33it/s]\n",
            "100%|██████████| 10/10 [00:02<00:00,  3.48it/s]\n"
          ]
        },
        {
          "output_type": "stream",
          "name": "stdout",
          "text": [
            "Valid loss improved from 0.3824 to 0.379900\n",
            "Epoch: 14 | Epoch Time: 0m 33s\n",
            "\tTrain Loss: 0.378\n",
            "\t Val. Loss: 0.380\n",
            "\n"
          ]
        },
        {
          "output_type": "stream",
          "name": "stderr",
          "text": [
            "100%|██████████| 40/40 [00:29<00:00,  1.34it/s]\n",
            "100%|██████████| 10/10 [00:02<00:00,  3.49it/s]\n"
          ]
        },
        {
          "output_type": "stream",
          "name": "stdout",
          "text": [
            "Valid loss improved from 0.3799 to 0.374438\n",
            "Epoch: 15 | Epoch Time: 0m 33s\n",
            "\tTrain Loss: 0.370\n",
            "\t Val. Loss: 0.374\n",
            "\n"
          ]
        },
        {
          "output_type": "stream",
          "name": "stderr",
          "text": [
            "100%|██████████| 40/40 [00:30<00:00,  1.33it/s]\n",
            "100%|██████████| 10/10 [00:02<00:00,  3.46it/s]\n"
          ]
        },
        {
          "output_type": "stream",
          "name": "stdout",
          "text": [
            "Epoch: 16 | Epoch Time: 0m 32s\n",
            "\tTrain Loss: 0.367\n",
            "\t Val. Loss: 0.379\n",
            "\n"
          ]
        },
        {
          "output_type": "stream",
          "name": "stderr",
          "text": [
            "100%|██████████| 40/40 [00:29<00:00,  1.34it/s]\n",
            "100%|██████████| 10/10 [00:02<00:00,  3.50it/s]\n"
          ]
        },
        {
          "output_type": "stream",
          "name": "stdout",
          "text": [
            "Valid loss improved from 0.3744 to 0.369022\n",
            "Epoch: 17 | Epoch Time: 0m 33s\n",
            "\tTrain Loss: 0.362\n",
            "\t Val. Loss: 0.369\n",
            "\n"
          ]
        },
        {
          "output_type": "stream",
          "name": "stderr",
          "text": [
            "100%|██████████| 40/40 [00:29<00:00,  1.34it/s]\n",
            "100%|██████████| 10/10 [00:03<00:00,  3.33it/s]\n"
          ]
        },
        {
          "output_type": "stream",
          "name": "stdout",
          "text": [
            "Valid loss improved from 0.3690 to 0.350217\n",
            "Epoch: 18 | Epoch Time: 0m 33s\n",
            "\tTrain Loss: 0.358\n",
            "\t Val. Loss: 0.350\n",
            "\n"
          ]
        },
        {
          "output_type": "stream",
          "name": "stderr",
          "text": [
            "100%|██████████| 40/40 [00:29<00:00,  1.33it/s]\n",
            "100%|██████████| 10/10 [00:02<00:00,  3.47it/s]\n"
          ]
        },
        {
          "output_type": "stream",
          "name": "stdout",
          "text": [
            "Epoch: 19 | Epoch Time: 0m 32s\n",
            "\tTrain Loss: 0.353\n",
            "\t Val. Loss: 0.366\n",
            "\n"
          ]
        },
        {
          "output_type": "stream",
          "name": "stderr",
          "text": [
            "100%|██████████| 40/40 [00:29<00:00,  1.33it/s]\n",
            "100%|██████████| 10/10 [00:02<00:00,  3.37it/s]\n"
          ]
        },
        {
          "output_type": "stream",
          "name": "stdout",
          "text": [
            "Epoch: 20 | Epoch Time: 0m 32s\n",
            "\tTrain Loss: 0.349\n",
            "\t Val. Loss: 0.363\n",
            "\n"
          ]
        },
        {
          "output_type": "stream",
          "name": "stderr",
          "text": [
            "100%|██████████| 40/40 [00:29<00:00,  1.34it/s]\n",
            "100%|██████████| 10/10 [00:02<00:00,  3.49it/s]\n"
          ]
        },
        {
          "output_type": "stream",
          "name": "stdout",
          "text": [
            "Epoch: 21 | Epoch Time: 0m 32s\n",
            "\tTrain Loss: 0.350\n",
            "\t Val. Loss: 0.360\n",
            "\n"
          ]
        },
        {
          "output_type": "stream",
          "name": "stderr",
          "text": [
            "100%|██████████| 40/40 [00:29<00:00,  1.34it/s]\n",
            "100%|██████████| 10/10 [00:03<00:00,  3.30it/s]\n"
          ]
        },
        {
          "output_type": "stream",
          "name": "stdout",
          "text": [
            "Valid loss improved from 0.3502 to 0.344603\n",
            "Epoch: 22 | Epoch Time: 0m 33s\n",
            "\tTrain Loss: 0.347\n",
            "\t Val. Loss: 0.345\n",
            "\n"
          ]
        },
        {
          "output_type": "stream",
          "name": "stderr",
          "text": [
            "100%|██████████| 40/40 [00:29<00:00,  1.34it/s]\n",
            "100%|██████████| 10/10 [00:02<00:00,  3.47it/s]\n"
          ]
        },
        {
          "output_type": "stream",
          "name": "stdout",
          "text": [
            "Valid loss improved from 0.3446 to 0.343761\n",
            "Epoch: 23 | Epoch Time: 0m 33s\n",
            "\tTrain Loss: 0.341\n",
            "\t Val. Loss: 0.344\n",
            "\n"
          ]
        },
        {
          "output_type": "stream",
          "name": "stderr",
          "text": [
            "100%|██████████| 40/40 [00:30<00:00,  1.33it/s]\n",
            "100%|██████████| 10/10 [00:02<00:00,  3.37it/s]\n"
          ]
        },
        {
          "output_type": "stream",
          "name": "stdout",
          "text": [
            "Epoch: 24 | Epoch Time: 0m 32s\n",
            "\tTrain Loss: 0.343\n",
            "\t Val. Loss: 0.351\n",
            "\n"
          ]
        },
        {
          "output_type": "stream",
          "name": "stderr",
          "text": [
            "100%|██████████| 40/40 [00:30<00:00,  1.33it/s]\n",
            "100%|██████████| 10/10 [00:02<00:00,  3.46it/s]\n"
          ]
        },
        {
          "output_type": "stream",
          "name": "stdout",
          "text": [
            "Epoch: 25 | Epoch Time: 0m 33s\n",
            "\tTrain Loss: 0.336\n",
            "\t Val. Loss: 0.348\n",
            "\n"
          ]
        },
        {
          "output_type": "stream",
          "name": "stderr",
          "text": [
            "100%|██████████| 40/40 [00:29<00:00,  1.34it/s]\n",
            "100%|██████████| 10/10 [00:02<00:00,  3.40it/s]\n"
          ]
        },
        {
          "output_type": "stream",
          "name": "stdout",
          "text": [
            "Epoch: 26 | Epoch Time: 0m 32s\n",
            "\tTrain Loss: 0.333\n",
            "\t Val. Loss: 0.344\n",
            "\n"
          ]
        },
        {
          "output_type": "stream",
          "name": "stderr",
          "text": [
            "100%|██████████| 40/40 [00:30<00:00,  1.33it/s]\n",
            "100%|██████████| 10/10 [00:02<00:00,  3.50it/s]\n"
          ]
        },
        {
          "output_type": "stream",
          "name": "stdout",
          "text": [
            "Epoch: 27 | Epoch Time: 0m 32s\n",
            "\tTrain Loss: 0.332\n",
            "\t Val. Loss: 0.355\n",
            "\n"
          ]
        },
        {
          "output_type": "stream",
          "name": "stderr",
          "text": [
            "100%|██████████| 40/40 [00:29<00:00,  1.34it/s]\n",
            "100%|██████████| 10/10 [00:02<00:00,  3.47it/s]\n"
          ]
        },
        {
          "output_type": "stream",
          "name": "stdout",
          "text": [
            "Valid loss improved from 0.3438 to 0.342400\n",
            "Epoch: 28 | Epoch Time: 0m 33s\n",
            "\tTrain Loss: 0.326\n",
            "\t Val. Loss: 0.342\n",
            "\n"
          ]
        },
        {
          "output_type": "stream",
          "name": "stderr",
          "text": [
            "100%|██████████| 40/40 [00:30<00:00,  1.33it/s]\n",
            "100%|██████████| 10/10 [00:02<00:00,  3.47it/s]\n"
          ]
        },
        {
          "output_type": "stream",
          "name": "stdout",
          "text": [
            "Valid loss improved from 0.3424 to 0.341826\n",
            "Epoch: 29 | Epoch Time: 0m 33s\n",
            "\tTrain Loss: 0.326\n",
            "\t Val. Loss: 0.342\n",
            "\n"
          ]
        },
        {
          "output_type": "stream",
          "name": "stderr",
          "text": [
            "100%|██████████| 40/40 [00:29<00:00,  1.34it/s]\n",
            "100%|██████████| 10/10 [00:02<00:00,  3.46it/s]\n"
          ]
        },
        {
          "output_type": "stream",
          "name": "stdout",
          "text": [
            "Valid loss improved from 0.3418 to 0.335273\n",
            "Epoch: 30 | Epoch Time: 0m 33s\n",
            "\tTrain Loss: 0.327\n",
            "\t Val. Loss: 0.335\n",
            "\n"
          ]
        },
        {
          "output_type": "stream",
          "name": "stderr",
          "text": [
            "100%|██████████| 40/40 [00:30<00:00,  1.33it/s]\n",
            "100%|██████████| 10/10 [00:02<00:00,  3.36it/s]\n"
          ]
        },
        {
          "output_type": "stream",
          "name": "stdout",
          "text": [
            "Epoch: 31 | Epoch Time: 0m 33s\n",
            "\tTrain Loss: 0.324\n",
            "\t Val. Loss: 0.352\n",
            "\n"
          ]
        },
        {
          "output_type": "stream",
          "name": "stderr",
          "text": [
            "100%|██████████| 40/40 [00:29<00:00,  1.34it/s]\n",
            "100%|██████████| 10/10 [00:02<00:00,  3.51it/s]\n"
          ]
        },
        {
          "output_type": "stream",
          "name": "stdout",
          "text": [
            "Epoch: 32 | Epoch Time: 0m 32s\n",
            "\tTrain Loss: 0.331\n",
            "\t Val. Loss: 0.364\n",
            "\n"
          ]
        },
        {
          "output_type": "stream",
          "name": "stderr",
          "text": [
            "100%|██████████| 40/40 [00:30<00:00,  1.33it/s]\n",
            "100%|██████████| 10/10 [00:03<00:00,  3.31it/s]\n"
          ]
        },
        {
          "output_type": "stream",
          "name": "stdout",
          "text": [
            "Epoch: 33 | Epoch Time: 0m 33s\n",
            "\tTrain Loss: 0.329\n",
            "\t Val. Loss: 0.343\n",
            "\n"
          ]
        },
        {
          "output_type": "stream",
          "name": "stderr",
          "text": [
            "100%|██████████| 40/40 [00:29<00:00,  1.33it/s]\n",
            "100%|██████████| 10/10 [00:02<00:00,  3.47it/s]\n"
          ]
        },
        {
          "output_type": "stream",
          "name": "stdout",
          "text": [
            "Epoch: 34 | Epoch Time: 0m 32s\n",
            "\tTrain Loss: 0.321\n",
            "\t Val. Loss: 0.341\n",
            "\n"
          ]
        },
        {
          "output_type": "stream",
          "name": "stderr",
          "text": [
            "100%|██████████| 40/40 [00:29<00:00,  1.33it/s]\n",
            "100%|██████████| 10/10 [00:03<00:00,  3.32it/s]\n"
          ]
        },
        {
          "output_type": "stream",
          "name": "stdout",
          "text": [
            "Valid loss improved from 0.3353 to 0.333073\n",
            "Epoch: 35 | Epoch Time: 0m 33s\n",
            "\tTrain Loss: 0.315\n",
            "\t Val. Loss: 0.333\n",
            "\n"
          ]
        },
        {
          "output_type": "stream",
          "name": "stderr",
          "text": [
            "100%|██████████| 40/40 [00:29<00:00,  1.33it/s]\n",
            "100%|██████████| 10/10 [00:02<00:00,  3.50it/s]\n"
          ]
        },
        {
          "output_type": "stream",
          "name": "stdout",
          "text": [
            "Epoch: 36 | Epoch Time: 0m 32s\n",
            "\tTrain Loss: 0.316\n",
            "\t Val. Loss: 0.339\n",
            "\n"
          ]
        },
        {
          "output_type": "stream",
          "name": "stderr",
          "text": [
            "100%|██████████| 40/40 [00:29<00:00,  1.34it/s]\n",
            "100%|██████████| 10/10 [00:02<00:00,  3.37it/s]\n"
          ]
        },
        {
          "output_type": "stream",
          "name": "stdout",
          "text": [
            "Epoch: 37 | Epoch Time: 0m 32s\n",
            "\tTrain Loss: 0.313\n",
            "\t Val. Loss: 0.336\n",
            "\n"
          ]
        },
        {
          "output_type": "stream",
          "name": "stderr",
          "text": [
            "100%|██████████| 40/40 [00:30<00:00,  1.33it/s]\n",
            "100%|██████████| 10/10 [00:02<00:00,  3.49it/s]\n"
          ]
        },
        {
          "output_type": "stream",
          "name": "stdout",
          "text": [
            "Epoch: 38 | Epoch Time: 0m 32s\n",
            "\tTrain Loss: 0.314\n",
            "\t Val. Loss: 0.344\n",
            "\n"
          ]
        },
        {
          "output_type": "stream",
          "name": "stderr",
          "text": [
            "100%|██████████| 40/40 [00:29<00:00,  1.34it/s]\n",
            "100%|██████████| 10/10 [00:02<00:00,  3.35it/s]\n"
          ]
        },
        {
          "output_type": "stream",
          "name": "stdout",
          "text": [
            "Epoch: 39 | Epoch Time: 0m 32s\n",
            "\tTrain Loss: 0.312\n",
            "\t Val. Loss: 0.336\n",
            "\n"
          ]
        },
        {
          "output_type": "stream",
          "name": "stderr",
          "text": [
            "100%|██████████| 40/40 [00:30<00:00,  1.33it/s]\n",
            "100%|██████████| 10/10 [00:02<00:00,  3.45it/s]\n"
          ]
        },
        {
          "output_type": "stream",
          "name": "stdout",
          "text": [
            "Epoch: 40 | Epoch Time: 0m 32s\n",
            "\tTrain Loss: 0.309\n",
            "\t Val. Loss: 0.344\n",
            "\n"
          ]
        },
        {
          "output_type": "stream",
          "name": "stderr",
          "text": [
            "100%|██████████| 40/40 [00:29<00:00,  1.34it/s]\n",
            "100%|██████████| 10/10 [00:02<00:00,  3.46it/s]\n"
          ]
        },
        {
          "output_type": "stream",
          "name": "stdout",
          "text": [
            "Epoch: 41 | Epoch Time: 0m 32s\n",
            "\tTrain Loss: 0.309\n",
            "\t Val. Loss: 0.345\n",
            "\n"
          ]
        },
        {
          "output_type": "stream",
          "name": "stderr",
          "text": [
            "100%|██████████| 40/40 [00:30<00:00,  1.33it/s]\n",
            "100%|██████████| 10/10 [00:02<00:00,  3.46it/s]\n"
          ]
        },
        {
          "output_type": "stream",
          "name": "stdout",
          "text": [
            "Epoch: 42 | Epoch Time: 0m 33s\n",
            "\tTrain Loss: 0.306\n",
            "\t Val. Loss: 0.337\n",
            "\n"
          ]
        },
        {
          "output_type": "stream",
          "name": "stderr",
          "text": [
            "100%|██████████| 40/40 [00:29<00:00,  1.33it/s]\n",
            "100%|██████████| 10/10 [00:02<00:00,  3.47it/s]\n"
          ]
        },
        {
          "output_type": "stream",
          "name": "stdout",
          "text": [
            "Epoch: 43 | Epoch Time: 0m 32s\n",
            "\tTrain Loss: 0.302\n",
            "\t Val. Loss: 0.341\n",
            "\n"
          ]
        },
        {
          "output_type": "stream",
          "name": "stderr",
          "text": [
            "100%|██████████| 40/40 [00:30<00:00,  1.33it/s]\n",
            "100%|██████████| 10/10 [00:02<00:00,  3.34it/s]\n"
          ]
        },
        {
          "output_type": "stream",
          "name": "stdout",
          "text": [
            "Epoch: 44 | Epoch Time: 0m 33s\n",
            "\tTrain Loss: 0.301\n",
            "\t Val. Loss: 0.338\n",
            "\n"
          ]
        },
        {
          "output_type": "stream",
          "name": "stderr",
          "text": [
            "100%|██████████| 40/40 [00:30<00:00,  1.33it/s]\n",
            "100%|██████████| 10/10 [00:02<00:00,  3.47it/s]\n"
          ]
        },
        {
          "output_type": "stream",
          "name": "stdout",
          "text": [
            "Epoch: 45 | Epoch Time: 0m 32s\n",
            "\tTrain Loss: 0.302\n",
            "\t Val. Loss: 0.342\n",
            "\n"
          ]
        },
        {
          "output_type": "stream",
          "name": "stderr",
          "text": [
            "100%|██████████| 40/40 [00:30<00:00,  1.33it/s]\n",
            "100%|██████████| 10/10 [00:03<00:00,  3.31it/s]\n"
          ]
        },
        {
          "output_type": "stream",
          "name": "stdout",
          "text": [
            "Epoch: 46 | Epoch Time: 0m 33s\n",
            "\tTrain Loss: 0.298\n",
            "\t Val. Loss: 0.341\n",
            "\n"
          ]
        },
        {
          "output_type": "stream",
          "name": "stderr",
          "text": [
            "100%|██████████| 40/40 [00:29<00:00,  1.34it/s]\n",
            "100%|██████████| 10/10 [00:02<00:00,  3.48it/s]\n"
          ]
        },
        {
          "output_type": "stream",
          "name": "stdout",
          "text": [
            "Epoch: 47 | Epoch Time: 0m 32s\n",
            "\tTrain Loss: 0.295\n",
            "\t Val. Loss: 0.349\n",
            "\n"
          ]
        },
        {
          "output_type": "stream",
          "name": "stderr",
          "text": [
            "100%|██████████| 40/40 [00:29<00:00,  1.34it/s]\n",
            "100%|██████████| 10/10 [00:03<00:00,  3.23it/s]\n"
          ]
        },
        {
          "output_type": "stream",
          "name": "stdout",
          "text": [
            "Epoch: 48 | Epoch Time: 0m 33s\n",
            "\tTrain Loss: 0.293\n",
            "\t Val. Loss: 0.340\n",
            "\n"
          ]
        },
        {
          "output_type": "stream",
          "name": "stderr",
          "text": [
            "100%|██████████| 40/40 [00:30<00:00,  1.33it/s]\n",
            "100%|██████████| 10/10 [00:02<00:00,  3.48it/s]\n"
          ]
        },
        {
          "output_type": "stream",
          "name": "stdout",
          "text": [
            "Epoch: 49 | Epoch Time: 0m 33s\n",
            "\tTrain Loss: 0.289\n",
            "\t Val. Loss: 0.341\n",
            "\n"
          ]
        },
        {
          "output_type": "stream",
          "name": "stderr",
          "text": [
            "100%|██████████| 40/40 [00:29<00:00,  1.34it/s]\n",
            "100%|██████████| 10/10 [00:02<00:00,  3.39it/s]"
          ]
        },
        {
          "output_type": "stream",
          "name": "stdout",
          "text": [
            "Epoch: 50 | Epoch Time: 0m 32s\n",
            "\tTrain Loss: 0.291\n",
            "\t Val. Loss: 0.337\n",
            "\n"
          ]
        },
        {
          "output_type": "stream",
          "name": "stderr",
          "text": [
            "\n"
          ]
        }
      ]
    },
    {
      "cell_type": "markdown",
      "source": [
        "**CHECKING ACCURACY**"
      ],
      "metadata": {
        "id": "4qHYheWYHfOz"
      }
    },
    {
      "cell_type": "code",
      "source": [
        "def mask_parse(mask):\n",
        "    mask = np.expand_dims(mask, axis=-1)    ## (512, 512, 1)\n",
        "    mask = np.concatenate([mask, mask, mask], axis=-1)  ## (512, 512, 3)\n",
        "    return mask\n",
        "\n",
        "if __name__ == \"__main__\":\n",
        "\n",
        "    jaccard_store = []\n",
        "    precision_store = []\n",
        "    f1_store = []\n",
        "    recall_store = []\n",
        "    acc_store = []\n",
        "    test_epoch_count = []\n",
        "    ##Seeding \n",
        "    seeding(42)\n",
        "\n",
        "    ##Folders\n",
        "    create_dir(\"results\")\n",
        "\n",
        "    ##Load dataset \n",
        "    test_x = sorted(glob(\"/content/new_data/test/image/*\"))\n",
        "    test_y = sorted(glob(\"/content/new_data/test/mask/*\"))\n",
        "\n",
        "    ##Hyperparameters \n",
        "    H = 512\n",
        "    W = 512\n",
        "    size = (W, H)\n",
        "    checkpoint_path = \"files/checkpoint.pth\"\n",
        "\n",
        "    ##Load the checkpoint \n",
        "    device = torch.device('cuda' if torch.cuda.is_available() else 'cpu')\n",
        "\n",
        "    model = build_unet()\n",
        "    model = model.to(device)\n",
        "    model.load_state_dict(torch.load(checkpoint_path, map_location=device))\n",
        "    model.eval()\n",
        "\n",
        "    metrics_score = [0.0, 0.0, 0.0, 0.0, 0.0]\n",
        "    time_taken = []\n",
        "\n",
        "    for i, (x, y) in tqdm(enumerate(zip(test_x, test_y)), total=len(test_x)):\n",
        "        ##Extract the name \n",
        "        name = x.split(\"/\")[-1].split(\".\")[0]\n",
        "\n",
        "        ##Reading image \n",
        "        image = cv2.imread(x, cv2.IMREAD_COLOR) ## (512, 512, 3)\n",
        "        ## image = cv2.resize(image, size)\n",
        "        x = np.transpose(image, (2, 0, 1))      ## (3, 512, 512)\n",
        "        x = x/255.0\n",
        "        x = np.expand_dims(x, axis=0)           ## (1, 3, 512, 512)\n",
        "        x = x.astype(np.float32)\n",
        "        x = torch.from_numpy(x)\n",
        "        x = x.to(device)\n",
        "\n",
        "        ##Reading mask \n",
        "        mask = cv2.imread(y, cv2.IMREAD_GRAYSCALE)  ## (512, 512)\n",
        "        ## mask = cv2.resize(mask, size)\n",
        "        y = np.expand_dims(mask, axis=0)            ## (1, 512, 512)\n",
        "        y = y/255.0\n",
        "        y = np.expand_dims(y, axis=0)               ## (1, 1, 512, 512)\n",
        "        y = y.astype(np.float32)\n",
        "        y = torch.from_numpy(y)\n",
        "        y = y.to(device)\n",
        "\n",
        "        with torch.no_grad():\n",
        "            ##Prediction and Calculating FPS \n",
        "            start_time = time.time()\n",
        "            pred_y = model(x)\n",
        "            pred_y = torch.sigmoid(pred_y)\n",
        "            total_time = time.time() - start_time\n",
        "            time_taken.append(total_time)\n",
        "\n",
        "\n",
        "            score = calculate_metrics(y, pred_y, type=\"All\")\n",
        "            metrics_score = list(map(add, metrics_score, score))\n",
        "            pred_y = pred_y[0].cpu().numpy()        ## (1, 512, 512)\n",
        "            pred_y = np.squeeze(pred_y, axis=0)     ## (512, 512)\n",
        "            pred_y = pred_y > 0.5\n",
        "            pred_y = np.array(pred_y, dtype=np.uint8)\n",
        "\n",
        "        ##Saving masks \n",
        "        ori_mask = mask_parse(mask)\n",
        "        pred_y = mask_parse(pred_y)\n",
        "        line = np.ones((size[1], 10, 3)) * 128\n",
        "\n",
        "        cat_images = np.concatenate(\n",
        "            [image, line, ori_mask, line, pred_y * 255], axis=1\n",
        "        )\n",
        "        cv2.imwrite(f\"results/{name}.png\", cat_images)\n",
        "\n",
        "        #Calculate the metrics for each batch\n",
        "        jaccard = score[0]\n",
        "        precision = score[3]\n",
        "        recall= score[2]\n",
        "        f1 = score[1]\n",
        "        acc = score[4]\n",
        "\n",
        "        #Store in the list\n",
        "        jaccard_store.append(jaccard)\n",
        "        precision_store.append(precision)\n",
        "        f1_store.append(f1)\n",
        "        recall_store.append(f1)\n",
        "        acc_store.append(f1)\n",
        "        test_epoch_count.append(i)\n",
        "\n",
        "    jaccard = metrics_score[0]/len(test_x)\n",
        "    f1 = metrics_score[1]/len(test_x)\n",
        "    recall = metrics_score[2]/len(test_x)\n",
        "    precision = metrics_score[3]/len(test_x)\n",
        "    acc = metrics_score[4]/len(test_x)\n",
        "    print(f\"Jaccard: {jaccard:1.4f} - F1: {f1:1.4f} - Recall: {recall:1.4f} - Precision: {precision:1.4f} - Acc: {acc:1.4f}\")\n",
        "\n",
        "    fps = 1/np.mean(time_taken)\n",
        "    print(\"FPS: \", fps)"
      ],
      "metadata": {
        "id": "IBPnv4zVX8As",
        "colab": {
          "base_uri": "https://localhost:8080/"
        },
        "outputId": "7232e48d-aedf-4cbb-8d97-8c90993ebb73"
      },
      "execution_count": 28,
      "outputs": [
        {
          "output_type": "stream",
          "name": "stderr",
          "text": [
            "100%|██████████| 20/20 [00:08<00:00,  2.44it/s]"
          ]
        },
        {
          "output_type": "stream",
          "name": "stdout",
          "text": [
            "Jaccard: 0.6881 - F1: 0.8149 - Recall: 0.8201 - Precision: 0.8156 - Acc: 0.9677\n",
            "FPS:  112.77981833923991\n"
          ]
        },
        {
          "output_type": "stream",
          "name": "stderr",
          "text": [
            "\n"
          ]
        }
      ]
    },
    {
      "cell_type": "code",
      "source": [
        "jaccard_store"
      ],
      "metadata": {
        "id": "Y48mp1WD-k5d",
        "outputId": "641805e9-7687-4b96-97a7-49dfafe73ab1",
        "colab": {
          "base_uri": "https://localhost:8080/"
        }
      },
      "execution_count": 29,
      "outputs": [
        {
          "output_type": "execute_result",
          "data": {
            "text/plain": [
              "[0.6965498867723459,\n",
              " 0.732007222014693,\n",
              " 0.6121289138338805,\n",
              " 0.7093933816895818,\n",
              " 0.6834639384704687,\n",
              " 0.6703470031545742,\n",
              " 0.677739479565168,\n",
              " 0.6643038966124927,\n",
              " 0.679926259729619,\n",
              " 0.6861311028982688,\n",
              " 0.6730348960169192,\n",
              " 0.6999925417661098,\n",
              " 0.6929327915806301,\n",
              " 0.6954970005315514,\n",
              " 0.6880652989190381,\n",
              " 0.7240960411604973,\n",
              " 0.6755367402479588,\n",
              " 0.6843056939370457,\n",
              " 0.7395875754322313,\n",
              " 0.6768475266498982]"
            ]
          },
          "metadata": {},
          "execution_count": 29
        }
      ]
    },
    {
      "cell_type": "code",
      "source": [
        "recall_store"
      ],
      "metadata": {
        "id": "WKxe-Sy--pt3",
        "outputId": "b9cdda00-51c9-4079-d488-0cf1893cdd40",
        "colab": {
          "base_uri": "https://localhost:8080/"
        }
      },
      "execution_count": 30,
      "outputs": [
        {
          "output_type": "execute_result",
          "data": {
            "text/plain": [
              "[0.8211369346733668,\n",
              " 0.8452704038534122,\n",
              " 0.759404423034815,\n",
              " 0.8299943000696658,\n",
              " 0.8119733637911342,\n",
              " 0.8026440037771482,\n",
              " 0.8079198085519483,\n",
              " 0.7982963904183726,\n",
              " 0.8094715536371839,\n",
              " 0.8138526140925663,\n",
              " 0.8045676723411428,\n",
              " 0.8235242503345253,\n",
              " 0.8186181932640856,\n",
              " 0.820404872805446,\n",
              " 0.8152117093570308,\n",
              " 0.8399718158080158,\n",
              " 0.8063526439270889,\n",
              " 0.8125670968165983,\n",
              " 0.8503022048182516,\n",
              " 0.8072857142857143]"
            ]
          },
          "metadata": {},
          "execution_count": 30
        }
      ]
    },
    {
      "cell_type": "code",
      "source": [
        "import numpy as np\n",
        "import matplotlib.pyplot as plt\n",
        "def plot_items(x,y,xlabel,ylabel,label,title):\n",
        "  plt.plot(x, np.array(y), label=label)\n",
        "  plt.title(title)\n",
        "  plt.ylabel(ylabel)\n",
        "  plt.xlabel(xlabel)\n",
        "  plt.legend()"
      ],
      "metadata": {
        "id": "4s1Hl2kp-CvE"
      },
      "execution_count": 31,
      "outputs": []
    },
    {
      "cell_type": "code",
      "source": [
        "plot_items(np.array(epoch_count), np.array(loss_store),\"Epochs\",\"Loss\",\"Train Loss\",\"Training Loss\")"
      ],
      "metadata": {
        "id": "1r9r2XeiWdUz",
        "colab": {
          "base_uri": "https://localhost:8080/",
          "height": 295
        },
        "outputId": "7ab663b9-ef60-4753-9907-e6a703731bd3"
      },
      "execution_count": 32,
      "outputs": [
        {
          "output_type": "display_data",
          "data": {
            "text/plain": [
              "<Figure size 432x288 with 1 Axes>"
            ],
            "image/png": "[encoded data removed]"
          },
          "metadata": {
            "needs_background": "light"
          }
        }
      ]
    },
    {
      "cell_type": "code",
      "source": [
        "plot_items(np.array(epoch_count), np.array(val_loss_store),\"Epochs\",\"Loss\",\"Test Loss\",\"Testing Loss\")"
      ],
      "metadata": {
        "id": "Bo3kZK_QkQiE",
        "colab": {
          "base_uri": "https://localhost:8080/",
          "height": 295
        },
        "outputId": "05a18492-71f6-4a8f-877c-39a80bec039a"
      },
      "execution_count": 33,
      "outputs": [
        {
          "output_type": "display_data",
          "data": {
            "text/plain": [
              "<Figure size 432x288 with 1 Axes>"
            ],
            "image/png": "[encoded data removed]"
          },
          "metadata": {
            "needs_background": "light"
          }
        }
      ]
    },
    {
      "cell_type": "code",
      "source": [
        "plt.plot(epoch_count, np.array(loss_store), label=\"Train Loss\")\n",
        "plt.plot(epoch_count, np.array(val_loss_store), label = \"Test Loss\")\n",
        "plt.title(\"Train and test loss curves\")\n",
        "plt.ylabel(\"Loss\")\n",
        "plt.xlabel(\"Epoch\")\n",
        "plt.legend()"
      ],
      "metadata": {
        "colab": {
          "base_uri": "https://localhost:8080/",
          "height": 312
        },
        "id": "ivco7kwX7kBa",
        "outputId": "ec5706a1-74ba-4f3d-d9fb-4b6f0019845f"
      },
      "execution_count": 34,
      "outputs": [
        {
          "output_type": "execute_result",
          "data": {
            "text/plain": [
              "<matplotlib.legend.Legend at 0x7effc5f652b0>"
            ]
          },
          "metadata": {},
          "execution_count": 34
        },
        {
          "output_type": "display_data",
          "data": {
            "text/plain": [
              "<Figure size 432x288 with 1 Axes>"
            ],
            "image/png": "[encoded data removed]"
          },
          "metadata": {
            "needs_background": "light"
          }
        }
      ]
    },
    {
      "cell_type": "code",
      "source": [
        "np.array(acc_store).shape"
      ],
      "metadata": {
        "colab": {
          "base_uri": "https://localhost:8080/"
        },
        "id": "nAvMcryH8QDZ",
        "outputId": "3acb469f-fa2d-45c8-dd39-648984d546c5"
      },
      "execution_count": 35,
      "outputs": [
        {
          "output_type": "execute_result",
          "data": {
            "text/plain": [
              "(20,)"
            ]
          },
          "metadata": {},
          "execution_count": 35
        }
      ]
    },
    {
      "cell_type": "code",
      "source": [
        "plot_items(np.array(test_epoch_count), np.array(acc_store),\"Epochs\",\"Accuracy\",\"Test Acc\",\"Testing Accuracy\")"
      ],
      "metadata": {
        "colab": {
          "base_uri": "https://localhost:8080/",
          "height": 295
        },
        "id": "xpx12_lT78xM",
        "outputId": "bec2f557-f31e-4e53-b945-bc3404b91fe6"
      },
      "execution_count": 36,
      "outputs": [
        {
          "output_type": "display_data",
          "data": {
            "text/plain": [
              "<Figure size 432x288 with 1 Axes>"
            ],
            "image/png": "[encoded data removed]"
          },
          "metadata": {
            "needs_background": "light"
          }
        }
      ]
    },
    {
      "cell_type": "code",
      "source": [
        "plot_items(np.array(test_epoch_count), np.array(precision_store),\"Epochs\",\"Accuracy\",\"Test precision\",\"Testing Precision\")"
      ],
      "metadata": {
        "colab": {
          "base_uri": "https://localhost:8080/",
          "height": 295
        },
        "id": "SiKsu7Zw8KqY",
        "outputId": "8cc2d92f-153c-4e36-c8d2-085d5b437fc8"
      },
      "execution_count": 37,
      "outputs": [
        {
          "output_type": "display_data",
          "data": {
            "text/plain": [
              "<Figure size 432x288 with 1 Axes>"
            ],
            "image/png": "[encoded data removed]"
          },
          "metadata": {
            "needs_background": "light"
          }
        }
      ]
    },
    {
      "cell_type": "code",
      "source": [
        "plot_items(np.array(test_epoch_count), np.array(jaccard_store),\"Epochs\",\"Accuracy\",\"Test jaccard\",\"Testing Jaccard\")"
      ],
      "metadata": {
        "colab": {
          "base_uri": "https://localhost:8080/",
          "height": 295
        },
        "id": "fHDMzePb9We_",
        "outputId": "744c2410-16bf-44d1-c599-00b2ff43b908"
      },
      "execution_count": 38,
      "outputs": [
        {
          "output_type": "display_data",
          "data": {
            "text/plain": [
              "<Figure size 432x288 with 1 Axes>"
            ],
            "image/png": "[encoded data removed]"
          },
          "metadata": {
            "needs_background": "light"
          }
        }
      ]
    },
    {
      "cell_type": "code",
      "source": [
        "plot_items(np.array(test_epoch_count), np.array(f1_store),\"Epochs\",\"Accuracy\",\"Test F1\",\"Testing F1\")"
      ],
      "metadata": {
        "colab": {
          "base_uri": "https://localhost:8080/",
          "height": 295
        },
        "id": "9ErytsX99YUO",
        "outputId": "3f45bdd5-0267-48df-d8e7-830047f149f4"
      },
      "execution_count": 39,
      "outputs": [
        {
          "output_type": "display_data",
          "data": {
            "text/plain": [
              "<Figure size 432x288 with 1 Axes>"
            ],
            "image/png": "[encoded data removed]"
          },
          "metadata": {
            "needs_background": "light"
          }
        }
      ]
    },
    {
      "cell_type": "code",
      "source": [
        "plot_items(np.array(test_epoch_count), np.array(recall_store),\"Epochs\",\"Recall\",\"Recall\",\"Testing Recall\")"
      ],
      "metadata": {
        "colab": {
          "base_uri": "https://localhost:8080/",
          "height": 295
        },
        "id": "FaVvkVNk9Z-_",
        "outputId": "d4e69287-615e-4535-fc9a-f10ef7be48f3"
      },
      "execution_count": 40,
      "outputs": [
        {
          "output_type": "display_data",
          "data": {
            "text/plain": [
              "<Figure size 432x288 with 1 Axes>"
            ],
            "image/png": "[encoded data removed]"
          },
          "metadata": {
            "needs_background": "light"
          }
        }
      ]
    },
    {
      "cell_type": "code",
      "source": [
        "plot_items(np.array(test_epoch_count), np.array(recall_store),\"Epochs\",\"Recall\",\"Recall\",\"Recall vs Precision\")\n",
        "plot_items(np.array(test_epoch_count), np.array(precision_store),\"Epochs\",\"Precision\",\"Precision\",\"Recall vs Precision\")"
      ],
      "metadata": {
        "colab": {
          "base_uri": "https://localhost:8080/",
          "height": 295
        },
        "id": "CGhTvDDq9amI",
        "outputId": "12e07f14-5842-4556-a17c-b5d1d90715bb"
      },
      "execution_count": 41,
      "outputs": [
        {
          "output_type": "display_data",
          "data": {
            "text/plain": [
              "<Figure size 432x288 with 1 Axes>"
            ],
            "image/png": "[encoded data removed]"
          },
          "metadata": {
            "needs_background": "light"
          }
        }
      ]
    },
    {
      "cell_type": "code",
      "source": [
        "plot_items(np.array(test_epoch_count), np.array(jaccard_store),\"Epochs\",\"Jaccard\",\"Jaccard\",\"Jaccard vs F1\")\n",
        "plot_items(np.array(test_epoch_count), np.array(f1_store),\"Epochs\",\"F1\",\"F1\",\"Jaccard vs F1\")"
      ],
      "metadata": {
        "colab": {
          "base_uri": "https://localhost:8080/",
          "height": 295
        },
        "id": "1GPg_2HK9oJA",
        "outputId": "e236fc3c-af76-4990-b5cd-ed1ad66aeef8"
      },
      "execution_count": 42,
      "outputs": [
        {
          "output_type": "display_data",
          "data": {
            "text/plain": [
              "<Figure size 432x288 with 1 Axes>"
            ],
            "image/png": "[encoded data removed]"
          },
          "metadata": {
            "needs_background": "light"
          }
        }
      ]
    },
    {
      "cell_type": "code",
      "source": [
        "plot_items(np.array(test_epoch_count), np.array(recall_store),\"Epochs\",\"Recall, Precision, Jaccard, F1\",\"Recall\",\"Recall vs Precision vs Jaccard vs F1\")\n",
        "plot_items(np.array(test_epoch_count), np.array(precision_store),\"Epochs\",\"Recall, Precision, Jaccard, F1\",\"Precision\",\"Recall vs Precision vs Jaccard vs F1\")\n",
        "plot_items(np.array(test_epoch_count), np.array(jaccard_store),\"Epochs\",\"Recall, Precision, Jaccard, F1\",\"Jaccard\",\"Recall vs Precision vs Jaccard vs F1\")\n",
        "plot_items(np.array(test_epoch_count), np.array(f1_store),\"Epochs\",\"Recall, Precision, Jaccard, F1\",\"F1\",\"Recall vs Precision vs Jaccard vs F1\")"
      ],
      "metadata": {
        "id": "m6yaWJoO_2Ur",
        "outputId": "d9f16456-7fdd-44d1-ba65-d9d1713b3300",
        "colab": {
          "base_uri": "https://localhost:8080/",
          "height": 295
        }
      },
      "execution_count": 44,
      "outputs": [
        {
          "output_type": "display_data",
          "data": {
            "text/plain": [
              "<Figure size 432x288 with 1 Axes>"
            ],
            "image/png": "[encoded data removed]"
          },
          "metadata": {
            "needs_background": "light"
          }
        }
      ]
    },
    {
      "cell_type": "code",
      "source": [],
      "metadata": {
        "id": "YaboBX3dATr8"
      },
      "execution_count": 43,
      "outputs": []
    }
  ]
}